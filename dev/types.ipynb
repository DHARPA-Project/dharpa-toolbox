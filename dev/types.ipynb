{
 "cells": [
  {
   "cell_type": "code",
   "execution_count": 26,
   "metadata": {
    "collapsed": true
   },
   "outputs": [],
   "source": [
    "from pathlib import Path\n",
    "from dharpa_toolbox.modules.utils import print_module_desc\n",
    "from dharpa_toolbox.modules.workflows import DharpaWorkflow\n",
    "from dharpa_toolbox.types.utils import convert_to_base_model\n",
    "from dharpa_toolbox.utils import print_file_content, get_data_from_file\n",
    "base_path = Path(\"/home/markus/projects/dharpa/dharpa-toolbox/dev\")"
   ]
  },
  {
   "cell_type": "code",
   "execution_count": 27,
   "outputs": [
    {
     "name": "stdout",
     "output_type": "stream",
     "text": [
      "text_map\n",
      "<traitlets.traitlets.Dict object at 0x7f615a51f250>\n",
      "<class 'pydantic.main.TokenizeCorpusModuleInput'>\n"
     ]
    },
    {
     "data": {
      "text/plain": "TokenizeCorpusModuleInput(text_map={})"
     },
     "execution_count": 27,
     "metadata": {},
     "output_type": "execute_result"
    }
   ],
   "source": [
    "config_path = base_path / \"corpus_processing.yaml\"\n",
    "# print_module_desc(\"tokenize_corpus\", \"lowercase_corpus\", \"remove_stopwords_from_corpus\")\n",
    "\n",
    "# print_file_content(config_path)\n",
    "\n",
    "workflow_config = get_data_from_file(config_path)\n",
    "workflow = DharpaWorkflow(**workflow_config)\n",
    "\n",
    "m = workflow.get_module(\"tokenize_corpus\")\n",
    "\n",
    "cls_name = f\"{m.__class__.__name__}Input\"\n",
    "base_model_cls = convert_to_base_model(cls_name, m._state.inputs)\n",
    "print(base_model_cls)\n",
    "\n",
    "t = base_model_cls(text_map={})\n",
    "t"
   ],
   "metadata": {
    "collapsed": false,
    "pycharm": {
     "name": "#%%\n"
    }
   }
  }
 ],
 "metadata": {
  "kernelspec": {
   "display_name": "Python 3",
   "language": "python",
   "name": "python3"
  },
  "language_info": {
   "codemirror_mode": {
    "name": "ipython",
    "version": 2
   },
   "file_extension": ".py",
   "mimetype": "text/x-python",
   "name": "python",
   "nbconvert_exporter": "python",
   "pygments_lexer": "ipython2",
   "version": "2.7.6"
  }
 },
 "nbformat": 4,
 "nbformat_minor": 0
}
