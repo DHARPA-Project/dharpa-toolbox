{
 "cells": [
  {
   "cell_type": "code",
   "execution_count": 51,
   "metadata": {},
   "outputs": [],
   "source": [
    "import os\n",
    "from pathlib import Path\n",
    "from IPython.core.display import display, Markdown\n",
    "from ipywidgets import Output\n",
    "from dharpa_toolbox.modules.core import GLOBAL_EVENT_MANAGER\n",
    "from dharpa_toolbox.modules.utils import describe_module, list_available_module_names, print_module_desc\n",
    "from dharpa_toolbox.modules.workflows import DharpaWorkflow\n",
    "from dharpa_toolbox.utils import graph_to_image, print_file_content, get_data_from_file\n",
    "from rich.jupyter import print\n",
    "\n",
    "module_events = Output()\n",
    "GLOBAL_EVENT_MANAGER.set_output(module_events)\n",
    "\n",
    "base_path = Path(\"/home/markus/projects/dharpa/dharpa-toolbox/dev\")"
   ]
  },
  {
   "cell_type": "code",
   "execution_count": 52,
   "metadata": {
    "pycharm": {
     "name": "#%%\n"
    }
   },
   "outputs": [
    {
     "data": {
      "text/plain": "<rich.jupyter.JupyterRenderable at 0x7f309b1c5050>",
      "text/html": "<pre style=\"white-space:pre;overflow-x:auto;line-height:normal;font-family:Menlo,'DejaVu Sans Mono',consolas,'Courier New',monospace\"><span style=\"font-weight: bold\">{</span>\n    <span style=\"color: #008000\">'tokenize_corpus'</span>: <span style=\"font-weight: bold\">{</span>\n        <span style=\"color: #008000\">'inputs'</span>: <span style=\"font-weight: bold\">{</span><span style=\"color: #008000\">'text_map'</span>: <span style=\"color: #008000\">'Dict'</span><span style=\"font-weight: bold\">}</span>,\n        <span style=\"color: #008000\">'outputs'</span>: <span style=\"font-weight: bold\">{</span><span style=\"color: #008000\">'tokenized_text'</span>: <span style=\"color: #008000\">'Dict'</span><span style=\"font-weight: bold\">}</span>\n    <span style=\"font-weight: bold\">}</span>,\n    <span style=\"color: #008000\">'lowercase_corpus'</span>: <span style=\"font-weight: bold\">{</span>\n        <span style=\"color: #008000\">'inputs'</span>: <span style=\"font-weight: bold\">{</span><span style=\"color: #008000\">'enabled'</span>: <span style=\"color: #008000\">'Bool'</span>, <span style=\"color: #008000\">'tokenized_text'</span>: <span style=\"color: #008000\">'Dict'</span><span style=\"font-weight: bold\">}</span>,\n        <span style=\"color: #008000\">'outputs'</span>: <span style=\"font-weight: bold\">{</span><span style=\"color: #008000\">'tokenized_text'</span>: <span style=\"color: #008000\">'Dict'</span><span style=\"font-weight: bold\">}</span>\n    <span style=\"font-weight: bold\">}</span>,\n    <span style=\"color: #008000\">'remove_stopwords_from_corpus'</span>: <span style=\"font-weight: bold\">{</span>\n        <span style=\"color: #008000\">'inputs'</span>: <span style=\"font-weight: bold\">{</span><span style=\"color: #008000\">'enabled'</span>: <span style=\"color: #008000\">'Bool'</span>, <span style=\"color: #008000\">'stopwords_list'</span>: <span style=\"color: #008000\">'List'</span>, <span style=\"color: #008000\">'tokenized_text'</span>: <span style=\"color: #008000\">'Dict'</span><span style=\"font-weight: bold\">}</span>,\n        <span style=\"color: #008000\">'outputs'</span>: <span style=\"font-weight: bold\">{</span><span style=\"color: #008000\">'tokenized_text'</span>: <span style=\"color: #008000\">'Dict'</span><span style=\"font-weight: bold\">}</span>\n    <span style=\"font-weight: bold\">}</span>\n<span style=\"font-weight: bold\">}</span>\n</pre>\n"
     },
     "metadata": {},
     "output_type": "display_data"
    },
    {
     "data": {
      "text/plain": "<IPython.core.display.Markdown object>",
      "text/markdown": "```yaml\n---\nmodules:\n\n- type: tokenize_corpus\n\n- type: lowercase_corpus\n  input_map:\n    tokenized_text: tokenize_corpus.tokenized_text\n\n- type: remove_stopwords_from_corpus\n  input_map:\n    tokenized_text: lowercase_corpus.tokenized_text\n  workflow_outputs:\n    tokenized_text: processed_text_corpus\n\n```"
     },
     "metadata": {},
     "output_type": "display_data"
    }
   ],
   "source": [
    "config_path = base_path / \"corpus_processing.yaml\"\n",
    "print_module_desc(\"tokenize_corpus\", \"lowercase_corpus\", \"remove_stopwords_from_corpus\")\n",
    "print_file_content(config_path)"
   ]
  },
  {
   "cell_type": "code",
   "execution_count": 53,
   "metadata": {
    "pycharm": {
     "name": "#%%\n"
    }
   },
   "outputs": [
    {
     "data": {
      "text/plain": "['dharpa_workflow',\n 'file_reader',\n 'lowercase_corpus',\n 'remove_stopwords_from_corpus',\n 'tokenize_corpus',\n 'tokenize_workflow']"
     },
     "execution_count": 53,
     "metadata": {},
     "output_type": "execute_result"
    }
   ],
   "source": [
    "workflow_config = get_data_from_file(config_path)\n",
    "workflow = DharpaWorkflow(**workflow_config)\n",
    "\n",
    "graph_to_image(workflow.execution_graph)\n",
    "list_available_module_names()\n"
   ]
  },
  {
   "cell_type": "code",
   "execution_count": 54,
   "metadata": {
    "pycharm": {
     "name": "#%%\n"
    }
   },
   "outputs": [
    {
     "data": {
      "text/plain": "<rich.jupyter.JupyterRenderable at 0x7f309b13e510>",
      "text/html": "<pre style=\"white-space:pre;overflow-x:auto;line-height:normal;font-family:Menlo,'DejaVu Sans Mono',consolas,'Courier New',monospace\"><span style=\"font-weight: bold\">{</span>\n    <span style=\"color: #008000\">'dharpa_workflow'</span>: <span style=\"font-weight: bold\">{</span>\n        <span style=\"color: #008000\">'inputs'</span>: <span style=\"font-weight: bold\">{</span>\n            <span style=\"color: #008000\">'lowercase_corpus__enabled'</span>: <span style=\"color: #008000\">'Bool'</span>,\n            <span style=\"color: #008000\">'remove_stopwords_from_corpus__enabled'</span>: <span style=\"color: #008000\">'Bool'</span>,\n            <span style=\"color: #008000\">'remove_stopwords_from_corpus__stopwords_list'</span>: <span style=\"color: #008000\">'List'</span>,\n            <span style=\"color: #008000\">'tokenize_corpus__text_map'</span>: <span style=\"color: #008000\">'Dict'</span>\n        <span style=\"font-weight: bold\">}</span>,\n        <span style=\"color: #008000\">'outputs'</span>: <span style=\"font-weight: bold\">{</span><span style=\"color: #008000\">'processed_text_corpus'</span>: <span style=\"color: #008000\">'Dict'</span><span style=\"font-weight: bold\">}</span>\n    <span style=\"font-weight: bold\">}</span>\n<span style=\"font-weight: bold\">}</span>\n</pre>\n"
     },
     "metadata": {},
     "output_type": "display_data"
    }
   ],
   "source": [
    "print_module_desc(workflow)\n"
   ]
  },
  {
   "cell_type": "code",
   "execution_count": null,
   "metadata": {
    "pycharm": {
     "name": "#%%\n",
     "is_executing": true
    }
   },
   "outputs": [
    {
     "data": {
      "text/plain": "<rich.jupyter.JupyterRenderable at 0x7f309b233c10>",
      "text/html": "<pre style=\"white-space:pre;overflow-x:auto;line-height:normal;font-family:Menlo,'DejaVu Sans Mono',consolas,'Courier New',monospace\"><span style=\"font-weight: bold\">{</span><span style=\"color: #008000\">'1'</span>: <span style=\"font-weight: bold\">[</span><span style=\"color: #008000\">'world'</span><span style=\"font-weight: bold\">]</span>, <span style=\"color: #008000\">'2'</span>: <span style=\"font-weight: bold\">[</span><span style=\"color: #008000\">'dharpa'</span><span style=\"font-weight: bold\">]}</span>\n</pre>\n"
     },
     "metadata": {},
     "output_type": "display_data"
    },
    {
     "data": {
      "text/plain": "{'1': ['world'], '2': ['dharpa']}"
     },
     "execution_count": 55,
     "metadata": {},
     "output_type": "execute_result"
    }
   ],
   "source": [
    "text_map = {\n",
    "    \"1\": \"Hello World!\",\n",
    "    \"2\": \"Hello DHARPA!\"\n",
    "}\n",
    "stopwords = [\n",
    "    \"hello\",\n",
    "    \"!\"\n",
    "]\n",
    "\n",
    "workflow.set_input(\"tokenize_corpus__text_map\", text_map)\n",
    "workflow.set_input(\"lowercase_corpus__enabled\", True)\n",
    "workflow.set_input(\"remove_stopwords_from_corpus__enabled\", True)\n",
    "workflow.set_input(\"remove_stopwords_from_corpus__stopwords_list\", stopwords)\n",
    "\n",
    "output1 = workflow.get_output(\"processed_text_corpus\")\n",
    "print(output1)\n",
    "m = workflow.get_module('remove_stopwords_from_corpus')\n",
    "m.get_output(\"tokenized_text\")"
   ]
  },
  {
   "cell_type": "code",
   "execution_count": 56,
   "metadata": {
    "pycharm": {
     "name": "#%%\n"
    }
   },
   "outputs": [
    {
     "data": {
      "text/plain": "<rich.jupyter.JupyterRenderable at 0x7f309b224f90>",
      "text/html": "<pre style=\"white-space:pre;overflow-x:auto;line-height:normal;font-family:Menlo,'DejaVu Sans Mono',consolas,'Courier New',monospace\"><span style=\"font-weight: bold\">{</span><span style=\"color: #008000\">'1'</span>: <span style=\"font-weight: bold\">[</span><span style=\"color: #008000\">'world'</span><span style=\"font-weight: bold\">]</span>, <span style=\"color: #008000\">'2'</span>: <span style=\"font-weight: bold\">[</span><span style=\"color: #008000\">'dharpa'</span><span style=\"font-weight: bold\">]}</span>\n</pre>\n"
     },
     "metadata": {},
     "output_type": "display_data"
    }
   ],
   "source": [
    "workflow.set_input(\"remove_stopwords_from_corpus__enabled\", True)\n",
    "output2 = workflow.get_output(\"processed_text_corpus\")\n",
    "\n",
    "print(output2)"
   ]
  },
  {
   "cell_type": "code",
   "execution_count": 57,
   "metadata": {
    "pycharm": {
     "name": "#%%\n"
    }
   },
   "outputs": [
    {
     "data": {
      "text/plain": "<rich.jupyter.JupyterRenderable at 0x7f309b207810>",
      "text/html": "<pre style=\"white-space:pre;overflow-x:auto;line-height:normal;font-family:Menlo,'DejaVu Sans Mono',consolas,'Courier New',monospace\"><span style=\"font-weight: bold\">[</span>\n    <span style=\"color: #008000\">'dharpa_workflow'</span>,\n    <span style=\"color: #008000\">'file_reader'</span>,\n    <span style=\"color: #008000\">'lowercase_corpus'</span>,\n    <span style=\"color: #008000\">'remove_stopwords_from_corpus'</span>,\n    <span style=\"color: #008000\">'tokenize_corpus'</span>,\n    <span style=\"color: #008000\">'tokenize_workflow'</span>\n<span style=\"font-weight: bold\">]</span>\n</pre>\n"
     },
     "metadata": {},
     "output_type": "display_data"
    }
   ],
   "source": [
    "class TokenizeWorkflow(DharpaWorkflow):\n",
    "\n",
    "    _module_name = \"tokenize_workflow\"\n",
    "\n",
    "    def __init__(self, **config):\n",
    "\n",
    "        config.update(workflow_config)\n",
    "\n",
    "        super().__init__(**config)\n",
    "\n",
    "all_modules_new = list_available_module_names()\n",
    "print(all_modules_new)\n",
    "#"
   ]
  },
  {
   "cell_type": "code",
   "execution_count": 58,
   "metadata": {
    "pycharm": {
     "name": "#%%\n"
    }
   },
   "outputs": [
    {
     "data": {
      "text/plain": "<rich.jupyter.JupyterRenderable at 0x7f30b4116d90>",
      "text/html": "<pre style=\"white-space:pre;overflow-x:auto;line-height:normal;font-family:Menlo,'DejaVu Sans Mono',consolas,'Courier New',monospace\"><span style=\"font-weight: bold\">{</span>\n    <span style=\"color: #008000\">'file_reader'</span>: <span style=\"font-weight: bold\">{</span><span style=\"color: #008000\">'inputs'</span>: <span style=\"font-weight: bold\">{</span><span style=\"color: #008000\">'files'</span>: <span style=\"color: #008000\">'Any'</span><span style=\"font-weight: bold\">}</span>, <span style=\"color: #008000\">'outputs'</span>: <span style=\"font-weight: bold\">{</span><span style=\"color: #008000\">'content_map'</span>: <span style=\"color: #008000\">'Dict'</span><span style=\"font-weight: bold\">}}</span>,\n    <span style=\"color: #008000\">'tokenize_workflow'</span>: <span style=\"font-weight: bold\">{</span>\n        <span style=\"color: #008000\">'inputs'</span>: <span style=\"font-weight: bold\">{</span>\n            <span style=\"color: #008000\">'lowercase_corpus__enabled'</span>: <span style=\"color: #008000\">'Bool'</span>,\n            <span style=\"color: #008000\">'remove_stopwords_from_corpus__enabled'</span>: <span style=\"color: #008000\">'Bool'</span>,\n            <span style=\"color: #008000\">'remove_stopwords_from_corpus__stopwords_list'</span>: <span style=\"color: #008000\">'List'</span>,\n            <span style=\"color: #008000\">'tokenize_corpus__text_map'</span>: <span style=\"color: #008000\">'Dict'</span>\n        <span style=\"font-weight: bold\">}</span>,\n        <span style=\"color: #008000\">'outputs'</span>: <span style=\"font-weight: bold\">{</span><span style=\"color: #008000\">'processed_text_corpus'</span>: <span style=\"color: #008000\">'Dict'</span><span style=\"font-weight: bold\">}</span>\n    <span style=\"font-weight: bold\">}</span>\n<span style=\"font-weight: bold\">}</span>\n</pre>\n"
     },
     "metadata": {},
     "output_type": "display_data"
    }
   ],
   "source": [
    "print_module_desc('file_reader', 'tokenize_workflow')"
   ]
  },
  {
   "cell_type": "code",
   "execution_count": 59,
   "metadata": {
    "pycharm": {
     "name": "#%%\n"
    }
   },
   "outputs": [
    {
     "data": {
      "text/plain": "<rich.jupyter.JupyterRenderable at 0x7f309b10f250>",
      "text/html": "<pre style=\"white-space:pre;overflow-x:auto;line-height:normal;font-family:Menlo,'DejaVu Sans Mono',consolas,'Courier New',monospace\"><span style=\"font-weight: bold\">{</span>\n    <span style=\"color: #008000\">'dharpa_workflow'</span>: <span style=\"font-weight: bold\">{</span>\n        <span style=\"color: #008000\">'inputs'</span>: <span style=\"font-weight: bold\">{</span>\n            <span style=\"color: #008000\">'file_reader__files'</span>: <span style=\"color: #008000\">'Any'</span>,\n            <span style=\"color: #008000\">'tokenize_workflow__lowercase_corpus__enabled'</span>: <span style=\"color: #008000\">'Bool'</span>,\n            <span style=\"color: #008000\">'tokenize_workflow__remove_stopwords_from_corpus__enabled'</span>: <span style=\"color: #008000\">'Bool'</span>,\n            <span style=\"color: #008000\">'tokenize_workflow__remove_stopwords_from_corpus__stopwords_list'</span>: <span style=\"color: #008000\">'List'</span>\n        <span style=\"font-weight: bold\">}</span>,\n        <span style=\"color: #008000\">'outputs'</span>: <span style=\"font-weight: bold\">{</span><span style=\"color: #008000\">'processed_text_corpus'</span>: <span style=\"color: #008000\">'Dict'</span><span style=\"font-weight: bold\">}</span>\n    <span style=\"font-weight: bold\">}</span>\n<span style=\"font-weight: bold\">}</span>\n</pre>\n"
     },
     "metadata": {},
     "output_type": "display_data"
    },
    {
     "data": {
      "text/plain": "{'text_corpus_1.txt': ['world', 'dharpa']}"
     },
     "execution_count": 59,
     "metadata": {},
     "output_type": "execute_result"
    }
   ],
   "source": [
    "new_config = {\n",
    "    \"modules\": [\n",
    "        {\n",
    "            \"type\": \"file_reader\"\n",
    "        },\n",
    "        {\n",
    "            \"type\": \"tokenize_workflow\",\n",
    "            \"input_map\": {\n",
    "                \"tokenize_corpus__text_map\": \"file_reader.content_map\"\n",
    "            },\n",
    "            \"workflow_outputs\": {\n",
    "                \"processed_text_corpus\": \"processed_text_corpus\"\n",
    "            }\n",
    "        }\n",
    "    ]\n",
    "}\n",
    "new_workflow = DharpaWorkflow(**new_config)\n",
    "\n",
    "print_module_desc(new_workflow)\n",
    "\n",
    "input_file = base_path / \"text_corpus_1.txt\"\n",
    "\n",
    "new_workflow.set_input(\"file_reader__files\", input_file)\n",
    "new_workflow.set_input(\"tokenize_workflow__remove_stopwords_from_corpus__stopwords_list\", stopwords)\n",
    "new_workflow.get_output(\"processed_text_corpus\")\n",
    "\n",
    "# m = new_workflow.get_module(\"file_reader\")\n",
    "# print(m.current_state)\n",
    "# m = new_workflow.get_module(\"tokenize_workflow\")\n",
    "# print(m.current_state)"
   ]
  },
  {
   "cell_type": "code",
   "execution_count": 60,
   "metadata": {
    "pycharm": {
     "name": "#%%\n"
    }
   },
   "outputs": [
    {
     "data": {
      "text/plain": "Output()",
      "application/vnd.jupyter.widget-view+json": {
       "version_major": 2,
       "version_minor": 0,
       "model_id": "a53a0706ba134d9facc450a4d4d02ca8"
      }
     },
     "metadata": {},
     "output_type": "display_data"
    }
   ],
   "source": [
    "display(module_events)\n",
    "\n",
    "\n"
   ]
  },
  {
   "cell_type": "code",
   "execution_count": 60,
   "metadata": {},
   "outputs": [],
   "source": []
  }
 ],
 "metadata": {
  "kernelspec": {
   "display_name": "Python 3",
   "language": "python",
   "name": "python3"
  },
  "language_info": {
   "codemirror_mode": {
    "name": "ipython",
    "version": 3
   },
   "file_extension": ".py",
   "mimetype": "text/x-python",
   "name": "python",
   "nbconvert_exporter": "python",
   "pygments_lexer": "ipython3",
   "version": "3.7.9"
  }
 },
 "nbformat": 4,
 "nbformat_minor": 1
}
