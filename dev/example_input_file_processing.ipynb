{
 "cells": [
  {
   "cell_type": "code",
   "execution_count": null,
   "outputs": [],
   "source": [
    "from pathlib import Path\n",
    "from dharpa_toolbox.modules.utils import load_workflows, create_module\n",
    "from dharpa_toolbox.rendering.jupyter.renderer import PlainJupyterWorkflowRenderer, ModuleJupyterWorkflowRenderer\n"
   ],
   "metadata": {
    "collapsed": false,
    "pycharm": {
     "name": "#%%\n"
    }
   }
  },
  {
   "cell_type": "code",
   "execution_count": null,
   "outputs": [],
   "source": [
    "\n",
    "base_path = Path(\"/home/markus/projects/dharpa/dharpa-toolbox/dev\")\n",
    "config_path = base_path / \"corpus_processing.yaml\"\n",
    "\n",
    "workflow_descriptions_folder = (\n",
    "    \"/home/markus/projects/dharpa/dharpa-toolbox/dev/workflows\"\n",
    ")\n",
    "load_workflows(workflow_descriptions_folder)\n",
    "\n",
    "workflow = create_module(\"input_files_processing\")\n",
    "\n",
    "renderer = PlainJupyterWorkflowRenderer(workflow=workflow)\n",
    "renderer.render()\n",
    "\n",
    "# renderer = ModuleJupyterWorkflowRenderer(workflow)\n",
    "# renderer.render()\n"
   ],
   "metadata": {
    "collapsed": false,
    "pycharm": {
     "name": "#%%\n"
    }
   }
  }
 ],
 "metadata": {
  "kernelspec": {
   "display_name": "Python 3",
   "language": "python",
   "name": "python3"
  },
  "language_info": {
   "codemirror_mode": {
    "name": "ipython",
    "version": 2
   },
   "file_extension": ".py",
   "mimetype": "text/x-python",
   "name": "python",
   "nbconvert_exporter": "python",
   "pygments_lexer": "ipython2",
   "version": "2.7.6"
  }
 },
 "nbformat": 4,
 "nbformat_minor": 0
}
