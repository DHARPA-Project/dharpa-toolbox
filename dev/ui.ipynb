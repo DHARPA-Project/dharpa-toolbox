{
 "cells": [
  {
   "cell_type": "code",
   "execution_count": 7,
   "metadata": {},
   "outputs": [],
   "source": [
    "from datetime import datetime\n",
    "from IPython.core.display import display\n",
    "from ipywidgets import Output\n",
    "from dharpa_toolbox.modules.core import find_all_module_classes\n",
    "from dharpa_toolbox.modules.workflows import DharpaWorkflow\n",
    "from dharpa_toolbox.rendering.plain import PlainWorkflowRenderer\n",
    "from dharpa_toolbox.ui import InputFilesWidget, FileSetTable, TextCorpusViewer, TextPreprocessingSettingsInputWidget, \\\n",
    "    GenericViewer\n",
    "from rich.jupyter import print"
   ]
  },
  {
   "cell_type": "code",
   "execution_count": 8,
   "metadata": {
    "collapsed": false,
    "jupyter": {
     "outputs_hidden": false
    },
    "pycharm": {
     "name": "#%%\n"
    }
   },
   "outputs": [
    {
     "data": {
      "text/plain": "<rich.jupyter.JupyterRenderable at 0x7f13d9d91fd0>",
      "text/html": "<pre style=\"white-space:pre;overflow-x:auto;line-height:normal;font-family:Menlo,'DejaVu Sans Mono',consolas,'Courier New',monospace\">Modules: <span style=\"font-weight: bold\">[</span><span style=\"color: #008000\">'input_text_files'</span>, <span style=\"color: #008000\">'corpus_processing'</span><span style=\"font-weight: bold\">]</span>\n</pre>\n"
     },
     "metadata": {},
     "output_type": "display_data"
    },
    {
     "data": {
      "text/plain": "<rich.jupyter.JupyterRenderable at 0x7f13d9d91fd0>",
      "text/html": "<pre style=\"white-space:pre;overflow-x:auto;line-height:normal;font-family:Menlo,'DejaVu Sans Mono',consolas,'Courier New',monospace\">Inputs: <span style=\"font-weight: bold\">[</span><span style=\"color: #008000\">'enable_lowercase'</span>, <span style=\"color: #008000\">'input_files'</span>, <span style=\"color: #008000\">'remove_stopwords'</span>, <span style=\"color: #008000\">'stopwords_list'</span><span style=\"font-weight: bold\">]</span>\n</pre>\n"
     },
     "metadata": {},
     "output_type": "display_data"
    },
    {
     "data": {
      "text/plain": "<rich.jupyter.JupyterRenderable at 0x7f13d9db9a50>",
      "text/html": "<pre style=\"white-space:pre;overflow-x:auto;line-height:normal;font-family:Menlo,'DejaVu Sans Mono',consolas,'Courier New',monospace\">Outputs: <span style=\"font-weight: bold\">[</span><span style=\"color: #008000\">'corpus_file_set'</span>, <span style=\"color: #008000\">'processed_text_corpus'</span><span style=\"font-weight: bold\">]</span>\n</pre>\n"
     },
     "metadata": {},
     "output_type": "display_data"
    },
    {
     "name": "stdout",
     "output_type": "stream",
     "text": [
      "Creating widget\n"
     ]
    },
    {
     "data": {
      "text/plain": "FileUpload(value={}, description='Upload', multiple=True)",
      "application/vnd.jupyter.widget-view+json": {
       "version_major": 2,
       "version_minor": 0,
       "model_id": "a6a785af51534cbc8a12c41e272e32a4"
      }
     },
     "metadata": {},
     "output_type": "display_data"
    },
    {
     "data": {
      "text/plain": "Output()",
      "application/vnd.jupyter.widget-view+json": {
       "version_major": 2,
       "version_minor": 0,
       "model_id": "4e61d5b66a084ac786263ac6d13259f2"
      }
     },
     "metadata": {},
     "output_type": "display_data"
    },
    {
     "data": {
      "text/plain": "Output()",
      "application/vnd.jupyter.widget-view+json": {
       "version_major": 2,
       "version_minor": 0,
       "model_id": "a2e7c53f11dd4d54b94ad91a0017c1a2"
      }
     },
     "metadata": {},
     "output_type": "display_data"
    }
   ],
   "source": [
    "config = {\n",
    "    \"modules\": [\n",
    "        {\n",
    "            \"type\": \"files_collection\",\n",
    "            \"id\": \"input_text_files\",\n",
    "            \"input_map\": {\n",
    "                \"files\": \"__workflow_input__.input_files\"\n",
    "            },\n",
    "            \"workflow_outputs\": {\n",
    "                \"file_set\": \"corpus_file_set\"\n",
    "            }\n",
    "        },\n",
    "        {\n",
    "            \"type\": \"corpus_processing\",\n",
    "            \"id\": \"corpus_processing\",\n",
    "            \"input_map\": {\n",
    "                \"file_set\": \"input_text_files.file_set\",\n",
    "                \"enable_lowercase\": \"__workflow_input__.enable_lowercase\",\n",
    "                \"remove_stopwords\": \"__workflow_input__.remove_stopwords\",\n",
    "                \"stopwords_list\": \"__workflow_input__.stopwords_list\"\n",
    "            },\n",
    "            \"workflow_outputs\": {\n",
    "                \"processed_text_corpus\": \"processed_text_corpus\"\n",
    "            }\n",
    "        }\n",
    "    ]\n",
    "}\n",
    "\n",
    "dw = DharpaWorkflow(**config)\n",
    "\n",
    "print(f\"Modules: {list(dw.modules.keys())}\")\n",
    "\n",
    "print(f\"Inputs: {dw.input_names}\")\n",
    "print(f\"Outputs: {dw.output_names}\")\n",
    "\n",
    "\n",
    "f_il = dw.get_input_location(\"input_files\")\n",
    "f_il.value_type\n",
    "\n",
    "ifw = InputFilesWidget(files=f_il)\n",
    "display(ifw.widget)\n",
    "\n",
    "f_ol = dw.get_output_location('corpus_file_set')\n",
    "fst = FileSetTable(f_ol)\n",
    "display(fst.widget)\n",
    "\n",
    "f_pt = dw.get_output_location(\"processed_text_corpus\")\n",
    "gv = GenericViewer(f_pt)\n",
    "display(gv.widget)\n",
    "\n",
    "\n",
    "i1 = dw.get_input_location(\"enable_lowercase\")\n",
    "i2 = dw.get_input_location(\"remove_stopwords\")\n",
    "i3 = dw.get_input_location(\"stopwords_list\")\n",
    "\n",
    "p_iw = TextPreprocessingSettingsInputWidget(i1, i2, i3, file_set=f_ol)\n",
    "\n",
    "# r = PlainWorkflowRenderer(dw)\n",
    "# r.render()\n"
   ]
  }
 ],
 "metadata": {
  "kernelspec": {
   "display_name": "Python 3",
   "language": "python",
   "name": "python3"
  },
  "language_info": {
   "codemirror_mode": {
    "name": "ipython",
    "version": 3
   },
   "file_extension": ".py",
   "mimetype": "text/x-python",
   "name": "python",
   "nbconvert_exporter": "python",
   "pygments_lexer": "ipython3",
   "version": "3.7.9"
  }
 },
 "nbformat": 4,
 "nbformat_minor": 4
}
