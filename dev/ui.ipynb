{
 "cells": [
  {
   "cell_type": "code",
   "execution_count": 1,
   "metadata": {
    "collapsed": true
   },
   "outputs": [],
   "source": [
    "from IPython.core.display import display\n",
    "from ipywidgets import Output\n",
    "from dharpa_toolbox.modules.workflows import DharpaWorkflow\n",
    "from dharpa_toolbox.ui import WorkflowOutput, InputFilesWidget, FileSetTable"
   ]
  },
  {
   "cell_type": "code",
   "execution_count": 2,
   "outputs": [
    {
     "name": "stdout",
     "output_type": "stream",
     "text": [
      "{'input_files': ValueLocation(module=FilesCollectionModule(id='input_text_files' input_names=['files'] output_names=['file_set']) config={}, value_name='files', type=<ValueLocationType.module_input: 2>)}\n",
      "{'corpus_file_set': ValueLocation(module=FilesCollectionModule(id='input_text_files' input_names=['files'] output_names=['file_set']) config={}, value_name='file_set', type=<ValueLocationType.module_output: 3>)}\n",
      "Creating widget\n",
      "XXXXXXXXXXXXXXXXXXXXXXXXXXXXX\n",
      "workflow: 'dharpa_workflow_0'\n",
      "['input_files']\n",
      "INPUT UPDATED\n",
      "OUTPUT_UPDATED: input_text_files output: file_set\n",
      "Workflow output 'input_text_files output: file_set' updated: DharpaFiles(files=(DharpaFile(name=2012271201_1908-04-11_ed-1_seq-1_ocr.txt size=11711),))\n",
      "workflow: 'dharpa_workflow_0' - file_set\n",
      "result: corpus_file_set\n"
     ]
    },
    {
     "data": {
      "text/plain": "Output()",
      "application/vnd.jupyter.widget-view+json": {
       "version_major": 2,
       "version_minor": 0,
       "model_id": "172f2fa0b9824de281faf74356f793a3"
      }
     },
     "metadata": {},
     "output_type": "display_data"
    },
    {
     "data": {
      "text/plain": "FileUpload(value={}, accept='.csv', description='Upload')",
      "application/vnd.jupyter.widget-view+json": {
       "version_major": 2,
       "version_minor": 0,
       "model_id": "5487f3e0e0634dcf9705b49587e9652b"
      }
     },
     "metadata": {},
     "output_type": "display_data"
    },
    {
     "data": {
      "text/plain": "Output()",
      "application/vnd.jupyter.widget-view+json": {
       "version_major": 2,
       "version_minor": 0,
       "model_id": "e16b43737bdc40439fffa5b03c17bb41"
      }
     },
     "metadata": {},
     "output_type": "display_data"
    }
   ],
   "source": [
    "config = {\n",
    "    \"modules\": [\n",
    "        {\n",
    "            \"type\": \"files_collection\",\n",
    "            \"id\": \"input_text_files\",\n",
    "            \"input_map\": {\n",
    "                \"files\": {\n",
    "                    \"value_name\": \"input_files\"\n",
    "                }\n",
    "            },\n",
    "            \"workflow_output\": {\n",
    "                \"file_set\": \"corpus_file_set\"\n",
    "            }\n",
    "        },\n",
    "        # {\n",
    "        #     \"type\": \"corpus_from_files\",\n",
    "        #     \"id\": \"corpus_creation\",\n",
    "        #     \"input_map\": {\n",
    "        #         \"file_set\": {\n",
    "        #             \"module\": \"input_text_files\",\n",
    "        #             \"value_name\": \"file_set\",\n",
    "        #         }\n",
    "        #     }\n",
    "        # },\n",
    "        # {\n",
    "        #     \"type\": \"corpus_processing\",\n",
    "        #     \"id\": \"corpus_processing\",\n",
    "        #     \"input_map\": {\n",
    "        #         \"file_set\": {\n",
    "        #             \"module\": \"corpus_creation\",\n",
    "        #             \"value_name\": \"file_set\"\n",
    "        #         }\n",
    "        #         # \"remove_stopwords_from_corpus__stopwords\": ()\n",
    "        #     },\n",
    "        #     \"workflow_output\": {\n",
    "        #         \"processed_text_corpus\": \"processed_text_corpus\"\n",
    "        #     }\n",
    "        # }\n",
    "    ]\n",
    "}\n",
    "\n",
    "dw = DharpaWorkflow(**config)\n",
    "\n",
    "print(dw._workflow_inputs)\n",
    "print(dw._workflow_outputs)\n",
    "\n",
    "status = Output()\n",
    "def update_structure(change):\n",
    "    status.clear_output()\n",
    "    with status:\n",
    "        print(\"CURRENT STATUE\")\n",
    "        print(dw.current_state)\n",
    "        print(\"========================\")\n",
    "\n",
    "dw.outputs.observe(update_structure)\n",
    "display(status)\n",
    "\n",
    "f_il = dw.get_input_location(\"input_files\")\n",
    "\n",
    "ifw = InputFilesWidget(f_il)\n",
    "display(ifw.widget)\n",
    "\n",
    "f_ol = dw.get_output_location('corpus_file_set')\n",
    "fst = FileSetTable(f_ol)\n",
    "display(fst.widget)\n",
    "\n",
    "dw.set_input(\"input_files\", \"/home/markus/projects/dharpa/TopicModelling-/data_tm_workflow/2012271201_1908-04-11_ed-1_seq-1_ocr.txt\")\n",
    "\n"
   ],
   "metadata": {
    "collapsed": false,
    "pycharm": {
     "name": "#%%\n"
    }
   }
  }
 ],
 "metadata": {
  "kernelspec": {
   "display_name": "Python 3",
   "language": "python",
   "name": "python3"
  },
  "language_info": {
   "codemirror_mode": {
    "name": "ipython",
    "version": 2
   },
   "file_extension": ".py",
   "mimetype": "text/x-python",
   "name": "python",
   "nbconvert_exporter": "python",
   "pygments_lexer": "ipython2",
   "version": "2.7.6"
  }
 },
 "nbformat": 4,
 "nbformat_minor": 0
}
