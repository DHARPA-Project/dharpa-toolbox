{
 "cells": [
  {
   "cell_type": "code",
   "execution_count": 1,
   "metadata": {
    "pycharm": {
     "name": "#%%\n"
    }
   },
   "outputs": [
    {
     "name": "stdout",
     "output_type": "stream",
     "text": [
      "The autoreload extension is already loaded. To reload it, use:\n",
      "  %reload_ext autoreload\n"
     ]
    }
   ],
   "source": [
    "import json\n",
    "from pathlib import Path\n",
    "import ipycytoscape\n",
    "from IPython.core.display import display\n",
    "from IPython.lib.display import FileLink\n",
    "from ipywidgets import Output\n",
    "from dharpa_toolbox.modules.core import DharpaModule\n",
    "from dharpa_toolbox.modules.utils import load_workflows, create_module, list_available_module_names\n",
    "from dharpa_toolbox.modules.workflows import DharpaWorkflow\n",
    "from dharpa_toolbox.rendering.jupyter.module_widgets import CorpusProcessingModuleWidget\n",
    "from dharpa_toolbox.rendering.jupyter.renderer import PlainJupyterWorkflowRenderer, ModuleJupyterWorkflowRenderer\n",
    "%load_ext autoreload\n",
    "%autoreload 2"
   ]
  },
  {
   "cell_type": "code",
   "execution_count": 55,
   "metadata": {
    "pycharm": {
     "name": "#%%\n"
    }
   },
   "outputs": [
    {
     "data": {
      "text/plain": "<rich.jupyter.JupyterRenderable at 0x7feb7feb6210>",
      "text/html": "<pre style=\"white-space:pre;overflow-x:auto;line-height:normal;font-family:Menlo,'DejaVu Sans Mono',consolas,'Courier New',monospace\"><span style=\"font-weight: bold\">&lt;</span><span style=\"color: #ff00ff; font-weight: bold\">re.Match</span><span style=\"color: #000000\"> object; </span><span style=\"color: #808000\">span</span><span style=\"color: #000000\">=</span><span style=\"color: #000000; font-weight: bold\">(</span><span style=\"color: #000080; font-weight: bold\">0</span><span style=\"color: #000000\">, </span><span style=\"color: #000080; font-weight: bold\">44</span><span style=\"color: #000000; font-weight: bold\">)</span><span style=\"color: #000000\">, </span><span style=\"color: #808000\">match</span><span style=\"color: #000000\">=</span><span style=\"color: #008000\">'NA LB 2 Dayton, O. Oct 28/17. Br Middlebrook'</span><span style=\"font-weight: bold\">&gt;</span>\n</pre>\n"
     },
     "metadata": {},
     "output_type": "display_data"
    }
   ],
   "source": [
    "import networkx as nx\n",
    "from rich.jupyter import print\n",
    "from dharpa_toolbox.utils import graph_to_image, get_data_from_file\n"
   ]
  },
  {
   "cell_type": "code",
   "execution_count": 3,
   "metadata": {
    "pycharm": {
     "name": "#%%\n"
    }
   },
   "outputs": [
    {
     "data": {
      "text/markdown": [
       "# Workflow: input_file_processing\n",
       "\n",
       "Reads one or several (text)-files, tokenzies the content, then processes the tokenized content according to the provided settings.\n",
       "\n",
       "Currently, lowercasing and the removal of stopwords is supported.\n",
       "\n",
       "\n",
       "## Workflow modules"
      ],
      "text/plain": [
       "<IPython.core.display.Markdown object>"
      ]
     },
     "metadata": {},
     "output_type": "display_data"
    },
    {
     "data": {
      "text/markdown": [
       "### 1 - file_reader"
      ],
      "text/plain": [
       "<IPython.core.display.Markdown object>"
      ]
     },
     "metadata": {},
     "output_type": "display_data"
    },
    {
     "data": {
      "text/markdown": [
       "Reads the content of one or multiple files into a dictionary."
      ],
      "text/plain": [
       "<IPython.core.display.Markdown object>"
      ]
     },
     "metadata": {},
     "output_type": "display_data"
    },
    {
     "data": {
      "application/vnd.jupyter.widget-view+json": {
       "model_id": "c31409da96db4e4ebf4477b7948118fe",
       "version_major": 2,
       "version_minor": 0
      },
      "text/plain": [
       "GridspecLayout(children=(Label(value='Upload text data', layout=Layout(grid_area='widget001')), FileUpload(val…"
      ]
     },
     "metadata": {},
     "output_type": "display_data"
    },
    {
     "data": {
      "text/markdown": [
       "---"
      ],
      "text/plain": [
       "<IPython.core.display.Markdown object>"
      ]
     },
     "metadata": {},
     "output_type": "display_data"
    },
    {
     "data": {
      "text/markdown": [
       "### 2 - corpus_processing"
      ],
      "text/plain": [
       "<IPython.core.display.Markdown object>"
      ]
     },
     "metadata": {},
     "output_type": "display_data"
    },
    {
     "data": {
      "text/markdown": [
       "Receives a dict with the id of a text as key, and the text as value, tokenizes the text(s) and then processes the tokenized values according to the provided settings."
      ],
      "text/plain": [
       "<IPython.core.display.Markdown object>"
      ]
     },
     "metadata": {},
     "output_type": "display_data"
    },
    {
     "data": {
      "application/vnd.jupyter.widget-view+json": {
       "model_id": "ea876d7d1243450dadc795206b18a69c",
       "version_major": 2,
       "version_minor": 0
      },
      "text/plain": [
       "GridspecLayout(children=(Label(value='Select preview item', layout=Layout(grid_area='widget001')), Dropdown(la…"
      ]
     },
     "metadata": {},
     "output_type": "display_data"
    },
    {
     "data": {
      "text/markdown": [
       "---"
      ],
      "text/plain": [
       "<IPython.core.display.Markdown object>"
      ]
     },
     "metadata": {},
     "output_type": "display_data"
    }
   ],
   "source": [
    "base_path = Path(\"/home/markus/projects/dharpa/dharpa-toolbox/dev\")\n",
    "config_path = base_path / \"corpus_processing.yaml\"\n",
    "# print_module_desc(\"tokenize_corpus\", \"lowercase_corpus\", \"remove_stopwords_from_corpus\")\n",
    "\n",
    "# print_file_content(config_path)\n",
    "workflow_descriptions_folder = (\n",
    "    \"/home/markus/projects/dharpa/dharpa-toolbox/dev/workflows\"\n",
    ")\n",
    "load_workflows(workflow_descriptions_folder)\n",
    "\n",
    "# print(list_available_module_names())\n",
    "# workflow = create_module(\"input_file_processing\")\n",
    "workflow = create_module(\"corpus_processing\")\n",
    "# workflow = create_module(\"corpus_processing\")\n",
    "\n",
    "renderer = PlainJupyterWorkflowRenderer(workflow=workflow)\n",
    "renderer.render()\n",
    "\n",
    "\n",
    "# renderer = ModuleJupyterWorkflowRenderer(workflow)\n",
    "# renderer.render()\n"
   ]
  }
 ],
 "metadata": {
  "kernelspec": {
   "display_name": "Python 3",
   "language": "python",
   "name": "python3"
  },
  "language_info": {
   "codemirror_mode": {
    "name": "ipython",
    "version": 3
   },
   "file_extension": ".py",
   "mimetype": "text/x-python",
   "name": "python",
   "nbconvert_exporter": "python",
   "pygments_lexer": "ipython3",
   "version": "3.7.9"
  }
 },
 "nbformat": 4,
 "nbformat_minor": 1
}
