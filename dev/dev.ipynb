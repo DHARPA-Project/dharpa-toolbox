{
 "cells": [
  {
   "cell_type": "code",
   "execution_count": 4,
   "metadata": {
    "pycharm": {
     "name": "#%%\n"
    }
   },
   "outputs": [
    {
     "name": "stdout",
     "output_type": "stream",
     "text": [
      "The autoreload extension is already loaded. To reload it, use:\n",
      "  %reload_ext autoreload\n"
     ]
    }
   ],
   "source": [
    "import json\n",
    "import ipycytoscape\n",
    "from IPython.core.display import display\n",
    "from ipywidgets import Output\n",
    "%load_ext autoreload\n",
    "%autoreload 2"
   ]
  },
  {
   "cell_type": "code",
   "execution_count": 5,
   "outputs": [],
   "source": [
    "import networkx as nx\n",
    "from rich.jupyter import print\n",
    "from dharpa_toolbox.utils import graph_to_image\n",
    "\n",
    "\n",
    "from dharpa_toolbox.workflows import DharpaWorkflow"
   ],
   "metadata": {
    "collapsed": false,
    "pycharm": {
     "name": "#%%\n"
    }
   }
  },
  {
   "cell_type": "code",
   "execution_count": 6,
   "outputs": [
    {
     "data": {
      "text/plain": "<rich.jupyter.JupyterRenderable at 0x7fcf63e7f2d0>",
      "text/html": "<pre style=\"white-space:pre;overflow-x:auto;line-height:normal;font-family:Menlo,'DejaVu Sans Mono',consolas,'Courier New',monospace\"><span style=\"font-weight: bold\">[</span>\n    <span style=\"font-weight: bold\">{</span>\n        <span style=\"color: #008000\">'module_id'</span>: <span style=\"color: #008000\">'input_text_files'</span>,\n        <span style=\"color: #008000\">'processing_stage'</span>: <span style=\"color: #000080; font-weight: bold\">1</span>,\n        <span style=\"color: #008000\">'module_type'</span>: <span style=\"color: #008000\">'files_collection'</span>,\n        <span style=\"color: #008000\">'stale'</span>: <span style=\"color: #00ff00; font-style: italic\">True</span>,\n        <span style=\"color: #008000\">'busy'</span>: <span style=\"color: #ff0000; font-style: italic\">False</span>,\n        <span style=\"color: #008000\">'is_workflow'</span>: <span style=\"color: #ff0000; font-style: italic\">False</span>,\n        <span style=\"color: #008000\">'inputs'</span>: <span style=\"font-weight: bold\">{</span><span style=\"color: #008000\">'files'</span>: <span style=\"font-weight: bold\">{</span><span style=\"color: #008000\">'user_input'</span>: <span style=\"color: #00ff00; font-style: italic\">True</span><span style=\"font-weight: bold\">}}</span>,\n        <span style=\"color: #008000\">'output_names'</span>: <span style=\"font-weight: bold\">[</span><span style=\"color: #008000\">'file_set'</span><span style=\"font-weight: bold\">]</span>\n    <span style=\"font-weight: bold\">}</span>,\n    <span style=\"font-weight: bold\">{</span>\n        <span style=\"color: #008000\">'module_id'</span>: <span style=\"color: #008000\">'corpus_creation'</span>,\n        <span style=\"color: #008000\">'processing_stage'</span>: <span style=\"color: #000080; font-weight: bold\">2</span>,\n        <span style=\"color: #008000\">'module_type'</span>: <span style=\"color: #008000\">'corpus_from_files'</span>,\n        <span style=\"color: #008000\">'stale'</span>: <span style=\"color: #00ff00; font-style: italic\">True</span>,\n        <span style=\"color: #008000\">'busy'</span>: <span style=\"color: #ff0000; font-style: italic\">False</span>,\n        <span style=\"color: #008000\">'is_workflow'</span>: <span style=\"color: #ff0000; font-style: italic\">False</span>,\n        <span style=\"color: #008000\">'inputs'</span>: <span style=\"font-weight: bold\">{</span>\n            <span style=\"color: #008000\">'file_set'</span>: <span style=\"font-weight: bold\">{</span>\n                <span style=\"color: #008000\">'module_id'</span>: <span style=\"color: #008000\">'input_text_files'</span>,\n                <span style=\"color: #008000\">'output_name'</span>: <span style=\"color: #008000\">'file_set'</span>,\n                <span style=\"color: #008000\">'user_input'</span>: <span style=\"color: #ff0000; font-style: italic\">False</span>\n            <span style=\"font-weight: bold\">}</span>\n        <span style=\"font-weight: bold\">}</span>,\n        <span style=\"color: #008000\">'output_names'</span>: <span style=\"font-weight: bold\">[</span><span style=\"color: #008000\">'text_corpus'</span><span style=\"font-weight: bold\">]</span>\n    <span style=\"font-weight: bold\">}</span>,\n    <span style=\"font-weight: bold\">{</span>\n        <span style=\"color: #008000\">'module_id'</span>: <span style=\"color: #008000\">'corpus_processing'</span>,\n        <span style=\"color: #008000\">'processing_stage'</span>: <span style=\"color: #000080; font-weight: bold\">3</span>,\n        <span style=\"color: #008000\">'module_type'</span>: <span style=\"color: #008000\">'corpus_processing'</span>,\n        <span style=\"color: #008000\">'stale'</span>: <span style=\"color: #00ff00; font-style: italic\">True</span>,\n        <span style=\"color: #008000\">'busy'</span>: <span style=\"color: #ff0000; font-style: italic\">False</span>,\n        <span style=\"color: #008000\">'is_workflow'</span>: <span style=\"color: #00ff00; font-style: italic\">True</span>,\n        <span style=\"color: #008000\">'inner_structure'</span>: <span style=\"font-weight: bold\">[</span>\n            <span style=\"font-weight: bold\">{</span>\n                <span style=\"color: #008000\">'module_id'</span>: <span style=\"color: #008000\">'tokenize_corpus'</span>,\n                <span style=\"color: #008000\">'processing_stage'</span>: <span style=\"color: #000080; font-weight: bold\">1</span>,\n                <span style=\"color: #008000\">'module_type'</span>: <span style=\"color: #008000\">'tokenize'</span>,\n                <span style=\"color: #008000\">'stale'</span>: <span style=\"color: #00ff00; font-style: italic\">True</span>,\n                <span style=\"color: #008000\">'busy'</span>: <span style=\"color: #ff0000; font-style: italic\">False</span>,\n                <span style=\"color: #008000\">'is_workflow'</span>: <span style=\"color: #ff0000; font-style: italic\">False</span>,\n                <span style=\"color: #008000\">'inputs'</span>: <span style=\"font-weight: bold\">{</span><span style=\"color: #008000\">'file_set'</span>: <span style=\"font-weight: bold\">{</span><span style=\"color: #008000\">'user_input'</span>: <span style=\"color: #00ff00; font-style: italic\">True</span><span style=\"font-weight: bold\">}}</span>,\n                <span style=\"color: #008000\">'output_names'</span>: <span style=\"font-weight: bold\">[</span><span style=\"color: #008000\">'text_corpus'</span><span style=\"font-weight: bold\">]</span>\n            <span style=\"font-weight: bold\">}</span>,\n            <span style=\"font-weight: bold\">{</span>\n                <span style=\"color: #008000\">'module_id'</span>: <span style=\"color: #008000\">'lowercase_corpus'</span>,\n                <span style=\"color: #008000\">'processing_stage'</span>: <span style=\"color: #000080; font-weight: bold\">2</span>,\n                <span style=\"color: #008000\">'module_type'</span>: <span style=\"color: #008000\">'lowercase'</span>,\n                <span style=\"color: #008000\">'stale'</span>: <span style=\"color: #00ff00; font-style: italic\">True</span>,\n                <span style=\"color: #008000\">'busy'</span>: <span style=\"color: #ff0000; font-style: italic\">False</span>,\n                <span style=\"color: #008000\">'is_workflow'</span>: <span style=\"color: #ff0000; font-style: italic\">False</span>,\n                <span style=\"color: #008000\">'inputs'</span>: <span style=\"font-weight: bold\">{</span>\n                    <span style=\"color: #008000\">'enabled'</span>: <span style=\"font-weight: bold\">{</span><span style=\"color: #008000\">'user_input'</span>: <span style=\"color: #00ff00; font-style: italic\">True</span><span style=\"font-weight: bold\">}</span>,\n                    <span style=\"color: #008000\">'text_corpus'</span>: <span style=\"font-weight: bold\">{</span>\n                        <span style=\"color: #008000\">'module_id'</span>: <span style=\"color: #008000\">'tokenize_corpus'</span>,\n                        <span style=\"color: #008000\">'output_name'</span>: <span style=\"color: #008000\">'text_corpus'</span>,\n                        <span style=\"color: #008000\">'user_input'</span>: <span style=\"color: #ff0000; font-style: italic\">False</span>\n                    <span style=\"font-weight: bold\">}</span>\n                <span style=\"font-weight: bold\">}</span>,\n                <span style=\"color: #008000\">'output_names'</span>: <span style=\"font-weight: bold\">[</span><span style=\"color: #008000\">'text_corpus'</span><span style=\"font-weight: bold\">]</span>\n            <span style=\"font-weight: bold\">}</span>,\n            <span style=\"font-weight: bold\">{</span>\n                <span style=\"color: #008000\">'module_id'</span>: <span style=\"color: #008000\">'remove_stopwords_from_corpus'</span>,\n                <span style=\"color: #008000\">'processing_stage'</span>: <span style=\"color: #000080; font-weight: bold\">3</span>,\n                <span style=\"color: #008000\">'module_type'</span>: <span style=\"color: #008000\">'remove_stopwords'</span>,\n                <span style=\"color: #008000\">'stale'</span>: <span style=\"color: #00ff00; font-style: italic\">True</span>,\n                <span style=\"color: #008000\">'busy'</span>: <span style=\"color: #ff0000; font-style: italic\">False</span>,\n                <span style=\"color: #008000\">'is_workflow'</span>: <span style=\"color: #ff0000; font-style: italic\">False</span>,\n                <span style=\"color: #008000\">'inputs'</span>: <span style=\"font-weight: bold\">{</span>\n                    <span style=\"color: #008000\">'enabled'</span>: <span style=\"font-weight: bold\">{</span><span style=\"color: #008000\">'user_input'</span>: <span style=\"color: #00ff00; font-style: italic\">True</span><span style=\"font-weight: bold\">}</span>,\n                    <span style=\"color: #008000\">'stopwords'</span>: <span style=\"font-weight: bold\">{</span><span style=\"color: #008000\">'user_input'</span>: <span style=\"color: #00ff00; font-style: italic\">True</span><span style=\"font-weight: bold\">}</span>,\n                    <span style=\"color: #008000\">'text_corpus'</span>: <span style=\"font-weight: bold\">{</span>\n                        <span style=\"color: #008000\">'module_id'</span>: <span style=\"color: #008000\">'lowercase_corpus'</span>,\n                        <span style=\"color: #008000\">'output_name'</span>: <span style=\"color: #008000\">'text_corpus'</span>,\n                        <span style=\"color: #008000\">'user_input'</span>: <span style=\"color: #ff0000; font-style: italic\">False</span>\n                    <span style=\"font-weight: bold\">}</span>\n                <span style=\"font-weight: bold\">}</span>,\n                <span style=\"color: #008000\">'output_names'</span>: <span style=\"font-weight: bold\">[</span><span style=\"color: #008000\">'text_corpus'</span><span style=\"font-weight: bold\">]</span>\n            <span style=\"font-weight: bold\">}</span>\n        <span style=\"font-weight: bold\">]</span>,\n        <span style=\"color: #008000\">'inputs'</span>: <span style=\"font-weight: bold\">{</span>\n            <span style=\"color: #008000\">'enable_lowercase'</span>: <span style=\"font-weight: bold\">{</span><span style=\"color: #008000\">'user_input'</span>: <span style=\"color: #00ff00; font-style: italic\">True</span><span style=\"font-weight: bold\">}</span>,\n            <span style=\"color: #008000\">'enable_stopwords_removal'</span>: <span style=\"font-weight: bold\">{</span><span style=\"color: #008000\">'user_input'</span>: <span style=\"color: #00ff00; font-style: italic\">True</span><span style=\"font-weight: bold\">}</span>,\n            <span style=\"color: #008000\">'file_set'</span>: <span style=\"font-weight: bold\">{</span>\n                <span style=\"color: #008000\">'module_id'</span>: <span style=\"color: #008000\">'corpus_creation'</span>,\n                <span style=\"color: #008000\">'output_name'</span>: <span style=\"color: #008000\">'file_set'</span>,\n                <span style=\"color: #008000\">'user_input'</span>: <span style=\"color: #ff0000; font-style: italic\">False</span>\n            <span style=\"font-weight: bold\">}</span>,\n            <span style=\"color: #008000\">'stopwords'</span>: <span style=\"font-weight: bold\">{</span><span style=\"color: #008000\">'user_input'</span>: <span style=\"color: #00ff00; font-style: italic\">True</span><span style=\"font-weight: bold\">}</span>\n        <span style=\"font-weight: bold\">}</span>,\n        <span style=\"color: #008000\">'output_names'</span>: <span style=\"font-weight: bold\">[</span><span style=\"color: #008000\">'processed_text_corpus'</span><span style=\"font-weight: bold\">]</span>\n    <span style=\"font-weight: bold\">}</span>\n<span style=\"font-weight: bold\">]</span>\n</pre>\n"
     },
     "metadata": {},
     "output_type": "display_data"
    }
   ],
   "source": [
    "config = {\n",
    "    \"modules\": [\n",
    "        {\n",
    "            \"type\": \"files_collection\",\n",
    "            \"id\": \"input_text_files\",\n",
    "        },\n",
    "        {\n",
    "            \"type\": \"corpus_from_files\",\n",
    "            \"id\": \"corpus_creation\",\n",
    "            \"input_map\": {\n",
    "                \"file_set\": {\n",
    "                    \"module\": \"input_text_files\",\n",
    "                    \"value_name\": \"file_set\",\n",
    "                }\n",
    "            }\n",
    "        },\n",
    "        {\n",
    "            \"type\": \"corpus_processing\",\n",
    "            \"id\": \"corpus_processing\",\n",
    "            \"input_map\": {\n",
    "                \"file_set\": {\n",
    "                    \"module\": \"corpus_creation\",\n",
    "                    \"value_name\": \"file_set\"\n",
    "                }\n",
    "                # \"remove_stopwords_from_corpus__stopwords\": ()\n",
    "            },\n",
    "            \"workflow_output\": {\n",
    "                \"processed_text_corpus\": \"processed_text_corpus\"\n",
    "            }\n",
    "        }\n",
    "    ]\n",
    "}\n",
    "\n",
    "\n",
    "dw = DharpaWorkflow(**config)\n",
    "\n",
    "m_input_text_files = dw.get_module(\"input_text_files\")\n",
    "# m_stowwords = dw.get_module(\"stopword_file\")\n",
    "\n",
    "# display(graph_to_image(dw.data_flow_graph))\n",
    "# display(graph_to_image(dw.execution_graph))\n",
    "#\n",
    "print(dw.current_structure)\n",
    "# cytoscapeobj = ipycytoscape.CytoscapeWidget()\n",
    "# cytoscapeobj.graph.add_graph_from_networkx(dw.data_flow_graph)\n",
    "#\n",
    "# cytoscapeobj.set_layout(name='dagre', nodeSpacing=10, edgeLengthVal=10)\n",
    "# cytoscapeobj.set_style([{\n",
    "#                         'selector': 'node',\n",
    "#                         'css': {\n",
    "#                             'background-color': '#11479e'\n",
    "#                             }\n",
    "#                         },\n",
    "#                         {\n",
    "#                         'selector': 'node:parent',\n",
    "#                         'css': {\n",
    "#                             'background-opacity': 0.333\n",
    "#                             }\n",
    "#                         },\n",
    "#                         {\n",
    "#                             'selector': 'edge',\n",
    "#                             'style': {\n",
    "#                                 'width': 4,\n",
    "#                                 'line-color': '#9dbaea',\n",
    "#                                 'target-arrow-shape': 'triangle',\n",
    "#                                 'target-arrow-color': '#9dbaea',\n",
    "#                                 'curve-style': 'bezier'\n",
    "#                             }\n",
    "#                         }])\n",
    "# cytoscapeobj"
   ],
   "metadata": {
    "collapsed": false,
    "pycharm": {
     "name": "#%%\n"
    }
   }
  },
  {
   "cell_type": "code",
   "execution_count": 6,
   "outputs": [],
   "source": [],
   "metadata": {
    "collapsed": false,
    "pycharm": {
     "name": "#%%\n"
    }
   }
  }
 ],
 "metadata": {
  "kernelspec": {
   "display_name": "Python 3",
   "language": "python",
   "name": "python3"
  },
  "language_info": {
   "codemirror_mode": {
    "name": "ipython",
    "version": 3
   },
   "file_extension": ".py",
   "mimetype": "text/x-python",
   "name": "python",
   "nbconvert_exporter": "python",
   "pygments_lexer": "ipython3",
   "version": "3.7.9"
  }
 },
 "nbformat": 4,
 "nbformat_minor": 1
}
