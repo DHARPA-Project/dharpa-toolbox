{
 "cells": [
  {
   "cell_type": "code",
   "execution_count": 37,
   "metadata": {
    "pycharm": {
     "name": "#%%\n"
    }
   },
   "outputs": [
    {
     "name": "stdout",
     "output_type": "stream",
     "text": [
      "The autoreload extension is already loaded. To reload it, use:\n",
      "  %reload_ext autoreload\n"
     ]
    }
   ],
   "source": [
    "import json\n",
    "from pathlib import Path\n",
    "import ipycytoscape\n",
    "from IPython.core.display import display\n",
    "from ipywidgets import Output\n",
    "from dharpa_toolbox.modules.core import DharpaModule\n",
    "from dharpa_toolbox.modules.utils import load_workflows, create_module, list_available_module_names\n",
    "from dharpa_toolbox.modules.workflows import DharpaWorkflow\n",
    "from dharpa_toolbox.rendering.jupyter.renderer import JupyterWorkflowRenderer\n",
    "%load_ext autoreload\n",
    "%autoreload 2"
   ]
  },
  {
   "cell_type": "code",
   "execution_count": 38,
   "outputs": [],
   "source": [
    "import networkx as nx\n",
    "from rich.jupyter import print\n",
    "from dharpa_toolbox.utils import graph_to_image, get_data_from_file\n"
   ],
   "metadata": {
    "collapsed": false,
    "pycharm": {
     "name": "#%%\n"
    }
   }
  },
  {
   "cell_type": "code",
   "execution_count": 39,
   "outputs": [
    {
     "name": "stdout",
     "output_type": "stream",
     "text": [
      "[\n",
      "    'corpus_processing',\n",
      "    'dharpa_workflow',\n",
      "    'file_reader',\n",
      "    'input_file_processing',\n",
      "    'lowercase_corpus',\n",
      "    'remove_stopwords_from_corpus',\n",
      "    'tokenize_corpus'\n",
      "]\n"
     ]
    },
    {
     "ename": "KeyError",
     "evalue": "'stringlistinputwidget'",
     "output_type": "error",
     "traceback": [
      "\u001B[0;31m---------------------------------------------------------------------------\u001B[0m",
      "\u001B[0;31mKeyError\u001B[0m                                  Traceback (most recent call last)",
      "\u001B[0;32m<ipython-input-39-9bf2c7d1cd63>\u001B[0m in \u001B[0;36m<module>\u001B[0;34m\u001B[0m\n\u001B[1;32m     14\u001B[0m \u001B[0;34m\u001B[0m\u001B[0m\n\u001B[1;32m     15\u001B[0m \u001B[0mrenderer\u001B[0m \u001B[0;34m=\u001B[0m \u001B[0mJupyterWorkflowRenderer\u001B[0m\u001B[0;34m(\u001B[0m\u001B[0mworkflow\u001B[0m\u001B[0;34m=\u001B[0m\u001B[0mworkflow\u001B[0m\u001B[0;34m)\u001B[0m\u001B[0;34m\u001B[0m\u001B[0;34m\u001B[0m\u001B[0m\n\u001B[0;32m---> 16\u001B[0;31m \u001B[0mrenderer\u001B[0m\u001B[0;34m.\u001B[0m\u001B[0mrender\u001B[0m\u001B[0;34m(\u001B[0m\u001B[0;34m)\u001B[0m\u001B[0;34m\u001B[0m\u001B[0;34m\u001B[0m\u001B[0m\n\u001B[0m",
      "\u001B[0;32m~/projects/dharpa/dharpa-toolbox/src/dharpa_toolbox/rendering/jupyter/renderer.py\u001B[0m in \u001B[0;36mrender\u001B[0;34m(self)\u001B[0m\n\u001B[1;32m     34\u001B[0m                 \u001B[0mwidgets\u001B[0m\u001B[0;34m[\u001B[0m\u001B[0minput_name\u001B[0m\u001B[0;34m]\u001B[0m \u001B[0;34m=\u001B[0m \u001B[0mwidget_cls\u001B[0m\u001B[0;34m(\u001B[0m\u001B[0mitem\u001B[0m\u001B[0;34m=\u001B[0m\u001B[0mloc\u001B[0m\u001B[0;34m)\u001B[0m\u001B[0;34m\u001B[0m\u001B[0;34m\u001B[0m\u001B[0m\n\u001B[1;32m     35\u001B[0m             \u001B[0;32melif\u001B[0m \u001B[0minput_name\u001B[0m \u001B[0;34m==\u001B[0m \u001B[0;34m\"stopwords\"\u001B[0m\u001B[0;34m:\u001B[0m\u001B[0;34m\u001B[0m\u001B[0;34m\u001B[0m\u001B[0m\n\u001B[0;32m---> 36\u001B[0;31m                 \u001B[0mwidget_cls\u001B[0m \u001B[0;34m=\u001B[0m \u001B[0mwidget_classes\u001B[0m\u001B[0;34m[\u001B[0m\u001B[0;34m\"stringlistinputwidget\"\u001B[0m\u001B[0;34m]\u001B[0m\u001B[0;34m\u001B[0m\u001B[0;34m\u001B[0m\u001B[0m\n\u001B[0m\u001B[1;32m     37\u001B[0m                 \u001B[0mwidgets\u001B[0m\u001B[0;34m[\u001B[0m\u001B[0minput_name\u001B[0m\u001B[0;34m]\u001B[0m \u001B[0;34m=\u001B[0m \u001B[0mwidget_cls\u001B[0m\u001B[0;34m(\u001B[0m\u001B[0mitem\u001B[0m\u001B[0;34m=\u001B[0m\u001B[0mloc\u001B[0m\u001B[0;34m)\u001B[0m\u001B[0;34m\u001B[0m\u001B[0;34m\u001B[0m\u001B[0m\n\u001B[1;32m     38\u001B[0m             \u001B[0;32melse\u001B[0m\u001B[0;34m:\u001B[0m\u001B[0;34m\u001B[0m\u001B[0;34m\u001B[0m\u001B[0m\n",
      "\u001B[0;31mKeyError\u001B[0m: 'stringlistinputwidget'"
     ]
    }
   ],
   "source": [
    "base_path = Path(\"/home/markus/projects/dharpa/dharpa-toolbox/dev\")\n",
    "config_path = base_path / \"corpus_processing.yaml\"\n",
    "# print_module_desc(\"tokenize_corpus\", \"lowercase_corpus\", \"remove_stopwords_from_corpus\")\n",
    "\n",
    "# print_file_content(config_path)\n",
    "workflow_descriptions_folder = (\n",
    "    \"/home/markus/projects/dharpa/dharpa-toolbox/dev/workflows\"\n",
    ")\n",
    "load_workflows(workflow_descriptions_folder)\n",
    "\n",
    "# print(list_available_module_names())\n",
    "# workflow = create_module(\"input_file_processing\")\n",
    "workflow = create_module(\"corpus_processing\")\n",
    "\n",
    "renderer = JupyterWorkflowRenderer(workflow=workflow)\n",
    "renderer.render()"
   ],
   "metadata": {
    "collapsed": false,
    "pycharm": {
     "name": "#%%\n"
    }
   }
  }
 ],
 "metadata": {
  "kernelspec": {
   "display_name": "Python 3",
   "language": "python",
   "name": "python3"
  },
  "language_info": {
   "codemirror_mode": {
    "name": "ipython",
    "version": 3
   },
   "file_extension": ".py",
   "mimetype": "text/x-python",
   "name": "python",
   "nbconvert_exporter": "python",
   "pygments_lexer": "ipython3",
   "version": "3.7.9"
  }
 },
 "nbformat": 4,
 "nbformat_minor": 1
}
