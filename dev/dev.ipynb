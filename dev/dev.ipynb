{
 "cells": [
  {
   "cell_type": "code",
   "execution_count": 2,
   "metadata": {
    "collapsed": true,
    "pycharm": {
     "name": "#%%\n"
    }
   },
   "outputs": [],
   "source": [
    "from IPython.core.display import display\n",
    "from ipywidgets import Output\n",
    "import dharpa\n",
    "from dharpa.graphs.utils import graph_to_image\n",
    "from dharpa.models import ModuleState\n",
    "from dharpa.utils import get_data_from_file\n",
    "from dharpa.workflows.workflow import DharpaWorkflow\n",
    "%load_ext autoreload\n",
    "%autoreload 2\n",
    "\n",
    "path_to_inputs = \"/home/markus/projects/dharpa/dharpa-toolbox/examples/inputs_xor_1.json\"\n",
    "inputs = get_data_from_file(path_to_inputs)\n"
   ]
  },
  {
   "cell_type": "code",
   "execution_count": 3,
   "outputs": [
    {
     "data": {
      "text/plain": "Output()",
      "application/vnd.jupyter.widget-view+json": {
       "version_major": 2,
       "version_minor": 0,
       "model_id": "899bcfa2d74a47e5b3f0952b46dec624"
      }
     },
     "metadata": {},
     "output_type": "display_data"
    }
   ],
   "source": [
    "name = \"topic_modelling\"\n",
    "# name = \"xor\"\n",
    "dw: DharpaWorkflow = dharpa.create_workflow(name)\n",
    "\n",
    "output = Output()\n",
    "display(output)\n",
    "\n",
    "def workflow_changed(show_structure: bool=False):\n",
    "    graph = dw.create_state_graph(show_structure=show_structure)\n",
    "    # graph = dw.structure.data_flow_graph\n",
    "    img = graph_to_image(graph)\n",
    "    output.clear_output()\n",
    "    with output:\n",
    "        display(img)\n",
    "workflow_changed()"
   ],
   "metadata": {
    "collapsed": false,
    "pycharm": {
     "name": "#%%\n"
    }
   }
  },
  {
   "cell_type": "code",
   "execution_count": 4,
   "outputs": [],
   "source": [
    "dw.inputs.a = True\n",
    "dw.inputs.b = True\n",
    "try:\n",
    "    await dw.process()\n",
    "except Exception:\n",
    "    pass\n",
    "\n",
    "workflow_changed()\n",
    "\n",
    "# json_str = dw.to_json(indent=2)\n",
    "# print(json_str)\n",
    "# print(dw.outputs.ALL)\n"
   ],
   "metadata": {
    "collapsed": false,
    "pycharm": {
     "name": "#%%\n"
    }
   }
  },
  {
   "cell_type": "code",
   "execution_count": null,
   "outputs": [],
   "source": [
    "workflow_changed(True)\n",
    "# graph_to_image(dw.structure.execution_graph)"
   ],
   "metadata": {
    "collapsed": false,
    "pycharm": {
     "name": "#%%\n",
     "is_executing": true
    }
   }
  }
 ],
 "metadata": {
  "kernelspec": {
   "display_name": "Python 3",
   "language": "python",
   "name": "python3"
  },
  "language_info": {
   "codemirror_mode": {
    "name": "ipython",
    "version": 2
   },
   "file_extension": ".py",
   "mimetype": "text/x-python",
   "name": "python",
   "nbconvert_exporter": "python",
   "pygments_lexer": "ipython2",
   "version": "2.7.6"
  }
 },
 "nbformat": 4,
 "nbformat_minor": 0
}
