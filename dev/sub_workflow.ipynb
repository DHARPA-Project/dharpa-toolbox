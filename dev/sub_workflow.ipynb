{
 "cells": [
  {
   "cell_type": "code",
   "execution_count": 4,
   "metadata": {
    "collapsed": true
   },
   "outputs": [
    {
     "data": {
      "text/plain": "<rich.jupyter.JupyterRenderable at 0x7f794b073650>",
      "text/html": "<pre style=\"white-space:pre;overflow-x:auto;line-height:normal;font-family:Menlo,'DejaVu Sans Mono',consolas,'Courier New',monospace\">====================\n</pre>\n"
     },
     "metadata": {},
     "output_type": "display_data"
    },
    {
     "data": {
      "text/plain": "<rich.jupyter.JupyterRenderable at 0x7f794b073390>",
      "text/html": "<pre style=\"white-space:pre;overflow-x:auto;line-height:normal;font-family:Menlo,'DejaVu Sans Mono',consolas,'Courier New',monospace\"><span style=\"font-weight: bold\">[</span><span style=\"color: #008000\">'files'</span><span style=\"font-weight: bold\">]</span>\n</pre>\n"
     },
     "metadata": {},
     "output_type": "display_data"
    },
    {
     "data": {
      "text/plain": "<rich.jupyter.JupyterRenderable at 0x7f794b073610>",
      "text/html": "<pre style=\"white-space:pre;overflow-x:auto;line-height:normal;font-family:Menlo,'DejaVu Sans Mono',consolas,'Courier New',monospace\"><span style=\"font-weight: bold\">[</span><span style=\"color: #008000\">'file_set'</span><span style=\"font-weight: bold\">]</span>\n</pre>\n"
     },
     "metadata": {},
     "output_type": "display_data"
    },
    {
     "name": "stdout",
     "output_type": "stream",
     "text": [
      "Input updated for module 'files_collection_3'.\n",
      "==================================\n",
      "Input updated for workflow 'corpus_processing_0': file_set\n",
      "   -> forwarding input to internal module input: tokenize_corpus.file_set\n",
      "Input updated for module 'tokenize_corpus'.\n",
      ">>>>>>>>>>>>>>>>>>>>>>>>>>>>>>>>>>>>>>>>>>>>>>>>>>>>>>>>>>>>>>>>\n",
      "    -> processing module tokenize_corpus\n",
      "Module output updated: tokenize_corpus output: tokenized_text\n",
      "Updating out edges:\n",
      "Input updated for module 'lowercase_corpus'.\n",
      "tokenize_corpus output: tokenized_text -> lowercase_corpus input: tokenized_text\n",
      "Module output updated: lowercase_corpus output: tokenized_text\n",
      "Updating out edges:\n",
      "Input updated for module 'remove_stopwords_from_corpus'.\n",
      "lowercase_corpus output: tokenized_text -> remove_stopwords_from_corpus input: tokenized_text\n",
      "Module output updated: remove_stopwords_from_corpus output: tokenized_text\n",
      "Updating out edges:\n",
      "    -> processing module tokenize_corpus: finished\n",
      "<<<<<<<<<<<<<<<<<<<<<<<<<<<<<<<<<<<<<<<<<<<<<<<<<<<<<<<<<<<<<<<<\n",
      "Input updated for module 'corpus_processing_0'.\n"
     ]
    },
    {
     "data": {
      "text/plain": "<rich.jupyter.JupyterRenderable at 0x7f794b073950>",
      "text/html": "<pre style=\"white-space:pre;overflow-x:auto;line-height:normal;font-family:Menlo,'DejaVu Sans Mono',consolas,'Courier New',monospace\">DharpaFiles<span style=\"font-weight: bold\">(</span><span style=\"color: #808000\">files</span>=<span style=\"font-weight: bold\">(</span>DharpaFile<span style=\"font-weight: bold\">(</span><span style=\"color: #808000\">name</span>=<span style=\"color: #800080\">__init__</span>.py <span style=\"color: #808000\">size</span>=<span style=\"color: #000080; font-weight: bold\">105</span><span style=\"font-weight: bold\">)</span>,<span style=\"font-weight: bold\">))</span>\n</pre>\n"
     },
     "metadata": {},
     "output_type": "display_data"
    },
    {
     "data": {
      "text/plain": "<rich.jupyter.JupyterRenderable at 0x7f79a8170790>",
      "text/html": "<pre style=\"white-space:pre;overflow-x:auto;line-height:normal;font-family:Menlo,'DejaVu Sans Mono',consolas,'Courier New',monospace\"><span style=\"font-weight: bold\">[</span><span style=\"color: #008000\">'enable_lowercase'</span>, <span style=\"color: #008000\">'file_set'</span>, <span style=\"color: #008000\">'remove_stopwords'</span>, <span style=\"color: #008000\">'stopwords_list'</span><span style=\"font-weight: bold\">]</span>\n</pre>\n"
     },
     "metadata": {},
     "output_type": "display_data"
    },
    {
     "data": {
      "text/plain": "<rich.jupyter.JupyterRenderable at 0x7f794b073210>",
      "text/html": "<pre style=\"white-space:pre;overflow-x:auto;line-height:normal;font-family:Menlo,'DejaVu Sans Mono',consolas,'Courier New',monospace\"><span style=\"font-weight: bold\">[</span><span style=\"color: #008000\">'processed_text_corpus'</span>, <span style=\"color: #008000\">'tokenized_text_lowercase'</span><span style=\"font-weight: bold\">]</span>\n</pre>\n"
     },
     "metadata": {},
     "output_type": "display_data"
    },
    {
     "data": {
      "text/plain": "{'__init__.py': ['not', 'implemented', 'yet']}"
     },
     "execution_count": 4,
     "metadata": {},
     "output_type": "execute_result"
    }
   ],
   "source": [
    "from IPython.core.display import display\n",
    "from dharpa_toolbox.modules.utils import find_all_module_classes\n",
    "from dharpa_toolbox.modules.files import FilesCollectionModule\n",
    "from dharpa_toolbox.modules.text import CorpusProcessingWorkflow, TokenizeTextModule\n",
    "from dharpa_toolbox.utils import graph_to_image\n",
    "from rich.jupyter import print\n",
    "\n",
    "tsp = TokenizeTextModule()\n",
    "\n",
    "mcls = find_all_module_classes()\n",
    "\n",
    "print(\"====================\")\n",
    "\n",
    "fc = FilesCollectionModule()\n",
    "\n",
    "print(fc.input_names)\n",
    "print(fc.output_names)\n",
    "\n",
    "fc.set_input(\"files\", \"/home/markus/projects/python-projects/frkl.common/src/frkl/__init__.py\")\n",
    "fc.process()\n",
    "print(fc._state.outputs.file_set)\n",
    "\n",
    "cpw = CorpusProcessingWorkflow()\n",
    "# i = graph_to_image(cpw.execution_graph)\n",
    "# display(i)\n",
    "\n",
    "print(cpw.input_names)\n",
    "print(cpw.output_names)\n",
    "\n",
    "cpw.set_input(\"file_set\", fc._state.outputs.file_set)\n",
    "# cpw.process()\n",
    "\n",
    "cpw._state.outputs.processed_text_corpus"
   ]
  }
 ],
 "metadata": {
  "kernelspec": {
   "display_name": "Python 3",
   "language": "python",
   "name": "python3"
  },
  "language_info": {
   "codemirror_mode": {
    "name": "ipython",
    "version": 2
   },
   "file_extension": ".py",
   "mimetype": "text/x-python",
   "name": "python",
   "nbconvert_exporter": "python",
   "pygments_lexer": "ipython2",
   "version": "2.7.6"
  }
 },
 "nbformat": 4,
 "nbformat_minor": 0
}
