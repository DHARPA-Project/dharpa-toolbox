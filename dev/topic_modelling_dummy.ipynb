{
 "cells": [
  {
   "cell_type": "code",
   "execution_count": 67,
   "metadata": {
    "collapsed": true
   },
   "outputs": [],
   "source": [
    "# create the workflow object\n",
    "import os\n",
    "import dharpa\n",
    "from rich.jupyter import print\n",
    "from dharpa import DHARPA_TOOLBOX_DEFAULT_WORKFLOWS_FOLDER\n",
    "from dharpa.data.core import schemas_to_dict\n",
    "from dharpa.graphs.utils import graph_to_image\n",
    "from dharpa.utils import get_data_from_file"
   ]
  },
  {
   "cell_type": "code",
   "execution_count": 67,
   "outputs": [],
   "source": [],
   "metadata": {
    "collapsed": false,
    "pycharm": {
     "name": "#%%\n"
    }
   }
  },
  {
   "cell_type": "markdown",
   "source": [
    "# Topic modelling dummy workflow\n",
    "\n",
    "This notebook shows how we can create non-functional, dummy workflows, that still\n",
    "already use a sensible internal module structure.\n",
    "\n",
    "This will be useful so frontend work can happen independently from backend work.\n",
    "Also, I imagine it'll be very useful for frontend testing.\n",
    "\n",
    "## Workflow description\n",
    "\n",
    "The following is a (simplified) dummy structure for the first part of the topic modelling workflow. Note how we 'hard-code' the input/output schemas as well as outputs. No real processing will happen. We can simulate time passing by providing a ``delay`` parameter (if we want)."
   ],
   "metadata": {
    "collapsed": false,
    "pycharm": {
     "name": "#%% md\n"
    }
   }
  },
  {
   "cell_type": "code",
   "execution_count": 68,
   "outputs": [
    {
     "data": {
      "text/plain": "<rich.jupyter.JupyterRenderable at 0x7fbe1a95a250>",
      "text/html": "<pre style=\"white-space:pre;overflow-x:auto;line-height:normal;font-family:Menlo,'DejaVu Sans Mono',consolas,'Courier New',monospace\"><span style=\"font-weight: bold\">{</span>\n    <span style=\"color: #008000; text-decoration-color: #008000\">'meta'</span>: <span style=\"font-weight: bold\">{</span><span style=\"color: #008000; text-decoration-color: #008000\">'doc'</span>: <span style=\"color: #008000; text-decoration-color: #008000\">'topic modelling workflow'</span><span style=\"font-weight: bold\">}</span>,\n    <span style=\"color: #008000; text-decoration-color: #008000\">'modules'</span>: <span style=\"font-weight: bold\">[</span>\n        <span style=\"font-weight: bold\">{</span>\n            <span style=\"color: #008000; text-decoration-color: #008000\">'module_alias'</span>: <span style=\"color: #008000; text-decoration-color: #008000\">'data_upload'</span>,\n            <span style=\"color: #008000; text-decoration-color: #008000\">'module_type'</span>: <span style=\"color: #008000; text-decoration-color: #008000\">'dummy'</span>,\n            <span style=\"color: #008000; text-decoration-color: #008000\">'module_config'</span>: <span style=\"font-weight: bold\">{</span>\n                <span style=\"color: #008000; text-decoration-color: #008000\">'doc'</span>: <span style=\"color: #008000; text-decoration-color: #008000\">'Data onboarding'</span>,\n                <span style=\"color: #008000; text-decoration-color: #008000\">'input_schema'</span>: <span style=\"font-weight: bold\">{</span>\n                    <span style=\"color: #008000; text-decoration-color: #008000\">'path_to_data'</span>: <span style=\"font-weight: bold\">{</span><span style=\"color: #008000; text-decoration-color: #008000\">'type'</span>: <span style=\"color: #008000; text-decoration-color: #008000\">'string'</span><span style=\"font-weight: bold\">}</span>,\n                    <span style=\"color: #008000; text-decoration-color: #008000\">'parse_date'</span>: <span style=\"font-weight: bold\">{</span><span style=\"color: #008000; text-decoration-color: #008000\">'type'</span>: <span style=\"color: #008000; text-decoration-color: #008000\">'boolean'</span>, <span style=\"color: #008000; text-decoration-color: #008000\">'default'</span>: <span style=\"color: #ff0000; text-decoration-color: #ff0000; font-style: italic\">False</span><span style=\"font-weight: bold\">}</span>,\n                    <span style=\"color: #008000; text-decoration-color: #008000\">'parse_isin'</span>: <span style=\"font-weight: bold\">{</span><span style=\"color: #008000; text-decoration-color: #008000\">'type'</span>: <span style=\"color: #008000; text-decoration-color: #008000\">'boolean'</span>, <span style=\"color: #008000; text-decoration-color: #008000\">'default'</span>: <span style=\"color: #ff0000; text-decoration-color: #ff0000; font-style: italic\">False</span><span style=\"font-weight: bold\">}</span>\n                <span style=\"font-weight: bold\">}</span>,\n                <span style=\"color: #008000; text-decoration-color: #008000\">'output_schema'</span>: <span style=\"font-weight: bold\">{</span><span style=\"color: #008000; text-decoration-color: #008000\">'corpus'</span>: <span style=\"font-weight: bold\">{</span><span style=\"color: #008000; text-decoration-color: #008000\">'type'</span>: <span style=\"color: #008000; text-decoration-color: #008000\">'table'</span><span style=\"font-weight: bold\">}}</span>,\n                <span style=\"color: #008000; text-decoration-color: #008000\">'outputs'</span>: <span style=\"font-weight: bold\">{</span>\n                    <span style=\"color: #008000; text-decoration-color: #008000\">'corpus'</span>: <span style=\"font-weight: bold\">[</span>\n                        <span style=\"font-weight: bold\">{</span><span style=\"color: #008000; text-decoration-color: #008000\">'id'</span>: <span style=\"color: #008000; text-decoration-color: #008000\">'one'</span>, <span style=\"color: #008000; text-decoration-color: #008000\">'content'</span>: <span style=\"color: #008000; text-decoration-color: #008000\">'Hello World!'</span>, <span style=\"color: #008000; text-decoration-color: #008000\">'year'</span>: <span style=\"color: #000080; text-decoration-color: #000080; font-weight: bold\">1974</span><span style=\"font-weight: bold\">}</span>,\n                        <span style=\"font-weight: bold\">{</span><span style=\"color: #008000; text-decoration-color: #008000\">'id'</span>: <span style=\"color: #008000; text-decoration-color: #008000\">'two'</span>, <span style=\"color: #008000; text-decoration-color: #008000\">'content'</span>: <span style=\"color: #008000; text-decoration-color: #008000\">'Hello Dharpa!'</span>, <span style=\"color: #008000; text-decoration-color: #008000\">'year'</span>: <span style=\"color: #000080; text-decoration-color: #000080; font-weight: bold\">1999</span><span style=\"font-weight: bold\">}</span>,\n                        <span style=\"font-weight: bold\">{</span><span style=\"color: #008000; text-decoration-color: #008000\">'id'</span>: <span style=\"color: #008000; text-decoration-color: #008000\">'three'</span>, <span style=\"color: #008000; text-decoration-color: #008000\">'content'</span>: <span style=\"color: #008000; text-decoration-color: #008000\">'Goodbye World!'</span>, <span style=\"color: #008000; text-decoration-color: #008000\">'year'</span>: <span style=\"color: #000080; text-decoration-color: #000080; font-weight: bold\">2020</span><span style=\"font-weight: bold\">}</span>\n                    <span style=\"font-weight: bold\">]</span>\n                <span style=\"font-weight: bold\">}</span>,\n                <span style=\"color: #008000; text-decoration-color: #008000\">'delay'</span>: <span style=\"color: #000080; text-decoration-color: #000080; font-weight: bold\">0.5</span>\n            <span style=\"font-weight: bold\">}</span>\n        <span style=\"font-weight: bold\">}</span>,\n        <span style=\"font-weight: bold\">{</span>\n            <span style=\"color: #008000; text-decoration-color: #008000\">'module_alias'</span>: <span style=\"color: #008000; text-decoration-color: #008000\">'select_subset'</span>,\n            <span style=\"color: #008000; text-decoration-color: #008000\">'module_type'</span>: <span style=\"color: #008000; text-decoration-color: #008000\">'dummy'</span>,\n            <span style=\"color: #008000; text-decoration-color: #008000\">'module_config'</span>: <span style=\"font-weight: bold\">{</span>\n                <span style=\"color: #008000; text-decoration-color: #008000\">'doc'</span>: <span style=\"color: #008000; text-decoration-color: #008000\">'Select a subset of the corpus.'</span>,\n                <span style=\"color: #008000; text-decoration-color: #008000\">'input_schema'</span>: <span style=\"font-weight: bold\">{</span>\n                    <span style=\"color: #008000; text-decoration-color: #008000\">'corpus'</span>: <span style=\"font-weight: bold\">{</span><span style=\"color: #008000; text-decoration-color: #008000\">'type'</span>: <span style=\"color: #008000; text-decoration-color: #008000\">'table'</span><span style=\"font-weight: bold\">}</span>,\n                    <span style=\"color: #008000; text-decoration-color: #008000\">'min_year'</span>: <span style=\"font-weight: bold\">{</span><span style=\"color: #008000; text-decoration-color: #008000\">'type'</span>: <span style=\"color: #008000; text-decoration-color: #008000\">'integer'</span><span style=\"font-weight: bold\">}</span>,\n                    <span style=\"color: #008000; text-decoration-color: #008000\">'max_year'</span>: <span style=\"font-weight: bold\">{</span><span style=\"color: #008000; text-decoration-color: #008000\">'type'</span>: <span style=\"color: #008000; text-decoration-color: #008000\">'integer'</span><span style=\"font-weight: bold\">}</span>\n                <span style=\"font-weight: bold\">}</span>,\n                <span style=\"color: #008000; text-decoration-color: #008000\">'output_schema'</span>: <span style=\"font-weight: bold\">{</span><span style=\"color: #008000; text-decoration-color: #008000\">'corpus'</span>: <span style=\"font-weight: bold\">{</span><span style=\"color: #008000; text-decoration-color: #008000\">'type'</span>: <span style=\"color: #008000; text-decoration-color: #008000\">'table'</span><span style=\"font-weight: bold\">}}</span>,\n                <span style=\"color: #008000; text-decoration-color: #008000\">'outputs'</span>: <span style=\"font-weight: bold\">{</span>\n                    <span style=\"color: #008000; text-decoration-color: #008000\">'corpus'</span>: <span style=\"font-weight: bold\">[</span>\n                        <span style=\"font-weight: bold\">{</span><span style=\"color: #008000; text-decoration-color: #008000\">'id'</span>: <span style=\"color: #008000; text-decoration-color: #008000\">'one'</span>, <span style=\"color: #008000; text-decoration-color: #008000\">'content'</span>: <span style=\"color: #008000; text-decoration-color: #008000\">'Hello World!'</span>, <span style=\"color: #008000; text-decoration-color: #008000\">'year'</span>: <span style=\"color: #000080; text-decoration-color: #000080; font-weight: bold\">1974</span><span style=\"font-weight: bold\">}</span>,\n                        <span style=\"font-weight: bold\">{</span><span style=\"color: #008000; text-decoration-color: #008000\">'id'</span>: <span style=\"color: #008000; text-decoration-color: #008000\">'two'</span>, <span style=\"color: #008000; text-decoration-color: #008000\">'content'</span>: <span style=\"color: #008000; text-decoration-color: #008000\">'Hello Dharpa!'</span>, <span style=\"color: #008000; text-decoration-color: #008000\">'year'</span>: <span style=\"color: #000080; text-decoration-color: #000080; font-weight: bold\">1999</span><span style=\"font-weight: bold\">}</span>\n                    <span style=\"font-weight: bold\">]</span>\n                <span style=\"font-weight: bold\">}</span>,\n                <span style=\"color: #008000; text-decoration-color: #008000\">'delay'</span>: <span style=\"color: #000080; text-decoration-color: #000080; font-weight: bold\">1</span>\n            <span style=\"font-weight: bold\">}</span>,\n            <span style=\"color: #008000; text-decoration-color: #008000\">'input_links'</span>: <span style=\"font-weight: bold\">{</span><span style=\"color: #008000; text-decoration-color: #008000\">'corpus'</span>: <span style=\"color: #008000; text-decoration-color: #008000\">'data_upload.corpus'</span><span style=\"font-weight: bold\">}</span>\n        <span style=\"font-weight: bold\">}</span>,\n        <span style=\"font-weight: bold\">{</span>\n            <span style=\"color: #008000; text-decoration-color: #008000\">'module_alias'</span>: <span style=\"color: #008000; text-decoration-color: #008000\">'pre_process'</span>,\n            <span style=\"color: #008000; text-decoration-color: #008000\">'module_type'</span>: <span style=\"color: #008000; text-decoration-color: #008000\">'dummy'</span>,\n            <span style=\"color: #008000; text-decoration-color: #008000\">'module_config'</span>: <span style=\"font-weight: bold\">{</span>\n                <span style=\"color: #008000; text-decoration-color: #008000\">'doc'</span>: <span style=\"color: #008000; text-decoration-color: #008000\">'Preprocess the corpus.'</span>,\n                <span style=\"color: #008000; text-decoration-color: #008000\">'input_schema'</span>: <span style=\"font-weight: bold\">{</span>\n                    <span style=\"color: #008000; text-decoration-color: #008000\">'corpus'</span>: <span style=\"font-weight: bold\">{</span><span style=\"color: #008000; text-decoration-color: #008000\">'type'</span>: <span style=\"color: #008000; text-decoration-color: #008000\">'table'</span><span style=\"font-weight: bold\">}</span>,\n                    <span style=\"color: #008000; text-decoration-color: #008000\">'tokenize'</span>: <span style=\"font-weight: bold\">{</span><span style=\"color: #008000; text-decoration-color: #008000\">'type'</span>: <span style=\"color: #008000; text-decoration-color: #008000\">'string'</span>, <span style=\"color: #008000; text-decoration-color: #008000\">'default'</span>: <span style=\"color: #008000; text-decoration-color: #008000\">'word'</span><span style=\"font-weight: bold\">}</span>,\n                    <span style=\"color: #008000; text-decoration-color: #008000\">'lowercase'</span>: <span style=\"font-weight: bold\">{</span><span style=\"color: #008000; text-decoration-color: #008000\">'type'</span>: <span style=\"color: #008000; text-decoration-color: #008000\">'boolean'</span>, <span style=\"color: #008000; text-decoration-color: #008000\">'default'</span>: <span style=\"color: #00ff00; text-decoration-color: #00ff00; font-style: italic\">True</span><span style=\"font-weight: bold\">}</span>,\n                    <span style=\"color: #008000; text-decoration-color: #008000\">'filter_tokens'</span>: <span style=\"font-weight: bold\">{</span><span style=\"color: #008000; text-decoration-color: #008000\">'type'</span>: <span style=\"color: #008000; text-decoration-color: #008000\">'boolean'</span>, <span style=\"color: #008000; text-decoration-color: #008000\">'default'</span>: <span style=\"color: #ff0000; text-decoration-color: #ff0000; font-style: italic\">False</span><span style=\"font-weight: bold\">}</span>\n                <span style=\"font-weight: bold\">}</span>,\n                <span style=\"color: #008000; text-decoration-color: #008000\">'output_schema'</span>: <span style=\"font-weight: bold\">{</span><span style=\"color: #008000; text-decoration-color: #008000\">'corpus'</span>: <span style=\"font-weight: bold\">{</span><span style=\"color: #008000; text-decoration-color: #008000\">'type'</span>: <span style=\"color: #008000; text-decoration-color: #008000\">'table'</span><span style=\"font-weight: bold\">}}</span>,\n                <span style=\"color: #008000; text-decoration-color: #008000\">'outputs'</span>: <span style=\"font-weight: bold\">{</span>\n                    <span style=\"color: #008000; text-decoration-color: #008000\">'corpus'</span>: <span style=\"font-weight: bold\">[</span>\n                        <span style=\"font-weight: bold\">{</span><span style=\"color: #008000; text-decoration-color: #008000\">'id'</span>: <span style=\"color: #008000; text-decoration-color: #008000\">'one'</span>, <span style=\"color: #008000; text-decoration-color: #008000\">'content'</span>: <span style=\"font-weight: bold\">[</span><span style=\"color: #008000; text-decoration-color: #008000\">'hello'</span>, <span style=\"color: #008000; text-decoration-color: #008000\">'world'</span><span style=\"font-weight: bold\">]</span>, <span style=\"color: #008000; text-decoration-color: #008000\">'year'</span>: <span style=\"color: #000080; text-decoration-color: #000080; font-weight: bold\">1974</span><span style=\"font-weight: bold\">}</span>,\n                        <span style=\"font-weight: bold\">{</span><span style=\"color: #008000; text-decoration-color: #008000\">'id'</span>: <span style=\"color: #008000; text-decoration-color: #008000\">'two'</span>, <span style=\"color: #008000; text-decoration-color: #008000\">'content'</span>: <span style=\"font-weight: bold\">[</span><span style=\"color: #008000; text-decoration-color: #008000\">'hello'</span>, <span style=\"color: #008000; text-decoration-color: #008000\">'dharpa'</span><span style=\"font-weight: bold\">]</span>, <span style=\"color: #008000; text-decoration-color: #008000\">'year'</span>: <span style=\"color: #000080; text-decoration-color: #000080; font-weight: bold\">1999</span><span style=\"font-weight: bold\">}</span>\n                    <span style=\"font-weight: bold\">]</span>\n                <span style=\"font-weight: bold\">}</span>,\n                <span style=\"color: #008000; text-decoration-color: #008000\">'delay'</span>: <span style=\"color: #000080; text-decoration-color: #000080; font-weight: bold\">1</span>\n            <span style=\"font-weight: bold\">}</span>,\n            <span style=\"color: #008000; text-decoration-color: #008000\">'input_links'</span>: <span style=\"font-weight: bold\">{</span><span style=\"color: #008000; text-decoration-color: #008000\">'corpus'</span>: <span style=\"color: #008000; text-decoration-color: #008000\">'select_subset.corpus'</span><span style=\"font-weight: bold\">}</span>\n        <span style=\"font-weight: bold\">}</span>\n    <span style=\"font-weight: bold\">]</span>,\n    <span style=\"color: #008000; text-decoration-color: #008000\">'input_aliases'</span>: <span style=\"font-weight: bold\">{</span>\n        <span style=\"color: #008000; text-decoration-color: #008000\">'data_upload__path_to_data'</span>: <span style=\"color: #008000; text-decoration-color: #008000\">'path_to_data'</span>,\n        <span style=\"color: #008000; text-decoration-color: #008000\">'data_upload__parse_date'</span>: <span style=\"color: #008000; text-decoration-color: #008000\">'parse_date'</span>,\n        <span style=\"color: #008000; text-decoration-color: #008000\">'data_upload__parse_isin'</span>: <span style=\"color: #008000; text-decoration-color: #008000\">'parse_isin'</span>,\n        <span style=\"color: #008000; text-decoration-color: #008000\">'select_subset__min_year'</span>: <span style=\"color: #008000; text-decoration-color: #008000\">'min_year'</span>,\n        <span style=\"color: #008000; text-decoration-color: #008000\">'select_subset__max_year'</span>: <span style=\"color: #008000; text-decoration-color: #008000\">'max_year'</span>,\n        <span style=\"color: #008000; text-decoration-color: #008000\">'pre_process__tokenize'</span>: <span style=\"color: #008000; text-decoration-color: #008000\">'tokenize'</span>,\n        <span style=\"color: #008000; text-decoration-color: #008000\">'pre_process__lowercase'</span>: <span style=\"color: #008000; text-decoration-color: #008000\">'lowercase'</span>,\n        <span style=\"color: #008000; text-decoration-color: #008000\">'pre_process__filter_tokens'</span>: <span style=\"color: #008000; text-decoration-color: #008000\">'filter_tokens'</span>\n    <span style=\"font-weight: bold\">}</span>,\n    <span style=\"color: #008000; text-decoration-color: #008000\">'output_aliases'</span>: <span style=\"font-weight: bold\">{</span><span style=\"color: #008000; text-decoration-color: #008000\">'pre_process__corpus'</span>: <span style=\"color: #008000; text-decoration-color: #008000\">'corpus'</span><span style=\"font-weight: bold\">}</span>\n<span style=\"font-weight: bold\">}</span>\n</pre>\n"
     },
     "metadata": {},
     "output_type": "display_data"
    }
   ],
   "source": [
    "print(get_data_from_file(os.path.join(DHARPA_TOOLBOX_DEFAULT_WORKFLOWS_FOLDER, \"dummy\", \"topic_modelling.json\")))"
   ],
   "metadata": {
    "collapsed": false,
    "pycharm": {
     "name": "#%%\n"
    }
   }
  },
  {
   "cell_type": "code",
   "execution_count": 69,
   "outputs": [
    {
     "data": {
      "text/plain": "<rich.jupyter.JupyterRenderable at 0x7fbe3c8f3c50>",
      "text/html": "<pre style=\"white-space:pre;overflow-x:auto;line-height:normal;font-family:Menlo,'DejaVu Sans Mono',consolas,'Courier New',monospace\">Input schema:\n</pre>\n"
     },
     "metadata": {},
     "output_type": "display_data"
    },
    {
     "data": {
      "text/plain": "<rich.jupyter.JupyterRenderable at 0x7fbe1b6177d0>",
      "text/html": "<pre style=\"white-space:pre;overflow-x:auto;line-height:normal;font-family:Menlo,'DejaVu Sans Mono',consolas,'Courier New',monospace\"><span style=\"font-weight: bold\">{</span>\n    <span style=\"color: #008000; text-decoration-color: #008000\">'path_to_data'</span>: <span style=\"font-weight: bold\">{</span><span style=\"color: #008000; text-decoration-color: #008000\">'type'</span>: <span style=\"color: #008000; text-decoration-color: #008000\">'string'</span><span style=\"font-weight: bold\">}</span>,\n    <span style=\"color: #008000; text-decoration-color: #008000\">'parse_date'</span>: <span style=\"font-weight: bold\">{</span><span style=\"color: #008000; text-decoration-color: #008000\">'type'</span>: <span style=\"color: #008000; text-decoration-color: #008000\">'boolean'</span>, <span style=\"color: #008000; text-decoration-color: #008000\">'default'</span>: <span style=\"color: #ff0000; text-decoration-color: #ff0000; font-style: italic\">False</span><span style=\"font-weight: bold\">}</span>,\n    <span style=\"color: #008000; text-decoration-color: #008000\">'parse_isin'</span>: <span style=\"font-weight: bold\">{</span><span style=\"color: #008000; text-decoration-color: #008000\">'type'</span>: <span style=\"color: #008000; text-decoration-color: #008000\">'boolean'</span>, <span style=\"color: #008000; text-decoration-color: #008000\">'default'</span>: <span style=\"color: #ff0000; text-decoration-color: #ff0000; font-style: italic\">False</span><span style=\"font-weight: bold\">}</span>,\n    <span style=\"color: #008000; text-decoration-color: #008000\">'min_year'</span>: <span style=\"font-weight: bold\">{</span><span style=\"color: #008000; text-decoration-color: #008000\">'type'</span>: <span style=\"color: #008000; text-decoration-color: #008000\">'integer'</span><span style=\"font-weight: bold\">}</span>,\n    <span style=\"color: #008000; text-decoration-color: #008000\">'max_year'</span>: <span style=\"font-weight: bold\">{</span><span style=\"color: #008000; text-decoration-color: #008000\">'type'</span>: <span style=\"color: #008000; text-decoration-color: #008000\">'integer'</span><span style=\"font-weight: bold\">}</span>,\n    <span style=\"color: #008000; text-decoration-color: #008000\">'tokenize'</span>: <span style=\"font-weight: bold\">{</span><span style=\"color: #008000; text-decoration-color: #008000\">'type'</span>: <span style=\"color: #008000; text-decoration-color: #008000\">'string'</span>, <span style=\"color: #008000; text-decoration-color: #008000\">'default'</span>: <span style=\"color: #008000; text-decoration-color: #008000\">'word'</span><span style=\"font-weight: bold\">}</span>,\n    <span style=\"color: #008000; text-decoration-color: #008000\">'lowercase'</span>: <span style=\"font-weight: bold\">{</span><span style=\"color: #008000; text-decoration-color: #008000\">'type'</span>: <span style=\"color: #008000; text-decoration-color: #008000\">'boolean'</span>, <span style=\"color: #008000; text-decoration-color: #008000\">'default'</span>: <span style=\"color: #00ff00; text-decoration-color: #00ff00; font-style: italic\">True</span><span style=\"font-weight: bold\">}</span>,\n    <span style=\"color: #008000; text-decoration-color: #008000\">'filter_tokens'</span>: <span style=\"font-weight: bold\">{</span><span style=\"color: #008000; text-decoration-color: #008000\">'type'</span>: <span style=\"color: #008000; text-decoration-color: #008000\">'boolean'</span>, <span style=\"color: #008000; text-decoration-color: #008000\">'default'</span>: <span style=\"color: #ff0000; text-decoration-color: #ff0000; font-style: italic\">False</span><span style=\"font-weight: bold\">}</span>\n<span style=\"font-weight: bold\">}</span>\n</pre>\n"
     },
     "metadata": {},
     "output_type": "display_data"
    }
   ],
   "source": [
    "# NOTE: defaults in the dummy config schema are not functional yet, so all the inputs need to be specified\n",
    "\n",
    "workflow = dharpa.create_workflow(\"topic_modelling\")\n",
    "\n",
    "# display the input schema\n",
    "print(\"Input schema:\")\n",
    "print(schemas_to_dict(**workflow.input_schema))"
   ],
   "metadata": {
    "collapsed": false,
    "pycharm": {
     "name": "#%%\n"
    }
   }
  },
  {
   "cell_type": "code",
   "execution_count": 70,
   "outputs": [
    {
     "data": {
      "text/plain": "<rich.jupyter.JupyterRenderable at 0x7fbe3c8e9f10>",
      "text/html": "<pre style=\"white-space:pre;overflow-x:auto;line-height:normal;font-family:Menlo,'DejaVu Sans Mono',consolas,'Courier New',monospace\">Output schema:\n</pre>\n"
     },
     "metadata": {},
     "output_type": "display_data"
    },
    {
     "data": {
      "text/plain": "<rich.jupyter.JupyterRenderable at 0x7fbe3c90e950>",
      "text/html": "<pre style=\"white-space:pre;overflow-x:auto;line-height:normal;font-family:Menlo,'DejaVu Sans Mono',consolas,'Courier New',monospace\"><span style=\"font-weight: bold\">{</span><span style=\"color: #008000; text-decoration-color: #008000\">'corpus'</span>: <span style=\"font-weight: bold\">{</span><span style=\"color: #008000; text-decoration-color: #008000\">'type'</span>: <span style=\"color: #008000; text-decoration-color: #008000\">'table'</span><span style=\"font-weight: bold\">}}</span>\n</pre>\n"
     },
     "metadata": {},
     "output_type": "display_data"
    }
   ],
   "source": [
    "# display the output schema\n",
    "print(\"Output schema:\")\n",
    "print(schemas_to_dict(**workflow.output_schema))"
   ],
   "metadata": {
    "collapsed": false,
    "pycharm": {
     "name": "#%%\n"
    }
   }
  },
  {
   "cell_type": "code",
   "execution_count": 71,
   "outputs": [
    {
     "data": {
      "text/plain": "<rich.jupyter.JupyterRenderable at 0x7fbe3c8e9c90>",
      "text/html": "<pre style=\"white-space:pre;overflow-x:auto;line-height:normal;font-family:Menlo,'DejaVu Sans Mono',consolas,'Courier New',monospace\">Workflow state before inputs: ModuleState.STALE\n</pre>\n"
     },
     "metadata": {},
     "output_type": "display_data"
    },
    {
     "data": {
      "text/plain": "<rich.jupyter.JupyterRenderable at 0x7fbe3c911210>",
      "text/html": "<pre style=\"white-space:pre;overflow-x:auto;line-height:normal;font-family:Menlo,'DejaVu Sans Mono',consolas,'Courier New',monospace\">Workflow state after inputs: ModuleState.INPUTS_READY\n</pre>\n"
     },
     "metadata": {},
     "output_type": "display_data"
    }
   ],
   "source": [
    "# get the current state (string) of the workflow\n",
    "print(f\"Workflow state before inputs: {workflow.state}\")\n",
    "\n",
    "# set inputs\n",
    "workflow.inputs.path_to_data = \"doesnt_matter_since_its_all_fake_anyway\"\n",
    "workflow.inputs.parse_date = False\n",
    "workflow.inputs.parse_isin = False\n",
    "workflow.inputs.min_year = 1974\n",
    "workflow.inputs.max_year = 1999\n",
    "workflow.inputs.filter_tokens = False\n",
    "workflow.inputs.tokenize = \"word\"\n",
    "workflow.inputs.lowercase = True\n",
    "\n",
    "# get the new state (string) of the workflow\n",
    "print(f\"Workflow state after inputs: {workflow.state}\")"
   ],
   "metadata": {
    "collapsed": false,
    "pycharm": {
     "name": "#%%\n"
    }
   }
  },
  {
   "cell_type": "code",
   "execution_count": null,
   "outputs": [
    {
     "name": "stderr",
     "output_type": "stream",
     "text": [
      "processing started: topic_modelling.topic_modelling\n",
      "processing started: topic_modelling.data_upload\n",
      "processing finished: topic_modelling.data_upload\n",
      "processing started: topic_modelling.select_subset\n"
     ]
    }
   ],
   "source": [
    "# now we execute the workflow\n",
    "await workflow.process()"
   ],
   "metadata": {
    "collapsed": false,
    "pycharm": {
     "name": "#%%\n",
     "is_executing": true
    }
   }
  },
  {
   "cell_type": "code",
   "execution_count": null,
   "outputs": [],
   "source": [
    "# let's look at the new state (string) of the workflow after processing\n",
    "print(f\"Workflow state after processing: {workflow.state}\")"
   ],
   "metadata": {
    "collapsed": false,
    "pycharm": {
     "name": "#%%\n",
     "is_executing": true
    }
   }
  },
  {
   "cell_type": "code",
   "execution_count": null,
   "outputs": [],
   "source": [
    "print(f\"Workflow output values:\")\n",
    "print(workflow.outputs.ALL)"
   ],
   "metadata": {
    "collapsed": false,
    "pycharm": {
     "name": "#%% and the result is...\n",
     "is_executing": true
    }
   }
  },
  {
   "cell_type": "code",
   "execution_count": null,
   "outputs": [],
   "source": [
    "print(\"Workflow state details (simple):\")\n",
    "print(workflow.to_dict(include_structure=False))"
   ],
   "metadata": {
    "collapsed": false,
    "pycharm": {
     "name": "#%%\n",
     "is_executing": true
    }
   }
  },
  {
   "cell_type": "code",
   "execution_count": null,
   "outputs": [],
   "source": [
    "print(\"Workflow state details (incl. internal structure):\")\n",
    "print(workflow.to_dict(include_structure=True))"
   ],
   "metadata": {
    "collapsed": false,
    "pycharm": {
     "name": "#%%\n",
     "is_executing": true
    }
   }
  },
  {
   "cell_type": "code",
   "execution_count": null,
   "outputs": [],
   "source": [
    "print(\"Workflow graph (simple)\")\n",
    "g = workflow.create_state_graph(show_structure=False)\n",
    "graph_to_image(g)"
   ],
   "metadata": {
    "collapsed": false,
    "pycharm": {
     "name": "#%%\n",
     "is_executing": true
    }
   }
  },
  {
   "cell_type": "code",
   "execution_count": null,
   "outputs": [],
   "source": [
    "print(\"Workflow graph (incl. internal structure)\")\n",
    "g = workflow.create_state_graph(show_structure=True)\n",
    "graph_to_image(g)\n"
   ],
   "metadata": {
    "collapsed": false,
    "pycharm": {
     "name": "#%%\n",
     "is_executing": true
    }
   }
  }
 ],
 "metadata": {
  "kernelspec": {
   "display_name": "Python 3",
   "language": "python",
   "name": "python3"
  },
  "language_info": {
   "codemirror_mode": {
    "name": "ipython",
    "version": 2
   },
   "file_extension": ".py",
   "mimetype": "text/x-python",
   "name": "python",
   "nbconvert_exporter": "python",
   "pygments_lexer": "ipython2",
   "version": "2.7.6"
  }
 },
 "nbformat": 4,
 "nbformat_minor": 0
}
