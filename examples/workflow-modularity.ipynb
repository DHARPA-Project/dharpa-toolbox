{
 "cells": [
  {
   "cell_type": "code",
   "execution_count": 1,
   "metadata": {
    "slideshow": {
     "slide_type": "skip"
    }
   },
   "outputs": [
    {
     "name": "stdout",
     "output_type": "stream",
     "text": [
      "Autosave disabled\n"
     ]
    }
   ],
   "source": [
    "%autosave 0\n",
    "\n",
    "import os\n",
    "from rich.jupyter import print\n",
    "from dharpa_toolbox.modules.utils import list_available_module_names, describe_module, print_module_desc, load_workflows, create_module\n",
    "from dharpa_toolbox.utils import print_file_content, graph_to_image\n",
    "from dharpa_toolbox.modules.workflows import DharpaWorkflow\n",
    "from dharpa_toolbox.rendering.jupyter.renderer import PlainJupyterWorkflowRenderer, ModuleJupyterWorkflowRenderer\n",
    "\n",
    "base_path = os.path.abspath(\".\")"
   ]
  },
  {
   "cell_type": "markdown",
   "metadata": {
    "pycharm": {
     "name": "#%% md\n"
    },
    "slideshow": {
     "slide_type": "slide"
    }
   },
   "source": [
    "## What's a workflow, really?\n",
    "\n",
    "- Jupyter is a very good tool to create non-trivial exploratory workflows\n",
    "- there's a difference between 'dynamic' workflows, and 'static' ones\n",
    "- Jupyter is usually used to create workflows in a 'dynamic' way\n",
    "- also important (for us): interactivity\n"
   ]
  },
  {
   "cell_type": "markdown",
   "metadata": {
    "pycharm": {
     "name": "#%% md\n"
    },
    "slideshow": {
     "slide_type": "skip"
    }
   },
   "source": [
    "Currently, Jupyter is one of the most used technologies in digital research to create workflows. Although there are exceptions,\n",
    "in most cases it is used to explore a very specific research question. Jupyter is exceptionally good at that, which is the\n",
    "reason it is so successful.\n",
    "\n",
    "From a computer-engineering perspective, Jupyter notebooks are 'just' simple scripts, and often they include anti-patterns like\n",
    "global- as well as hard-coded variables, little to no encapsulation of functionality, etc. Which means that typically,\n",
    "Jupyter notebooks have (relatively) little value to other researchers, and re-usability is low. This is an acceptable\n",
    "trade-off though, because the problems they are solving are (usually) very niche and specific, so there is little downside\n",
    "to tailor the code to the exact problem one is having. In addition, Jupyter notebooks are very good to document the workflow\n",
    "itself, and communicate what is happening to the data (which is important for publication).\n",
    "\n",
    "If we want to create a tool that lets users run pre-created workflows, that equation changes though. Because, now the assumption\n",
    "is that the (comparatively few) workflows we create will be useful in not just a very specific way. The goal is to identify\n",
    "areas where people have (roughly) the same problem, and to solve that problem in a generic way that is useful to a\n",
    "larger group of people. The workflow will typically be less important in relation to the overall research project a\n",
    "researcher is working on (compared to a tailored, specific one), but from the perspective of a reasearcher it will also be\n",
    "much less hassle and expensive to use, since they don't have to create the workflow themselves, and someone else already\n",
    "has thought about all the options and parameters that make sense, has done the validation and testing, etc. Also, they\n",
    "don't have to learn programming if they don't already know it...\n",
    "\n",
    "This means that we are dealing now with a very 'static' workflow, compared to the 'dynamic' ones researchers with programming\n",
    "skills can create and change themselves very easily. Everything that can happen in a workflow is known in advance, and\n",
    "even though there can be 'forks' in the flow of data, those have to be defined, implemented and documented in advance.\n",
    "And that difference is why we should not assume that Jupyter notebooks are as good a vessel to implement such a workflow\n",
    "as they are in the other case, where all that can happen 'on the go'. It's still possible notebooks are a good fit here too,\n",
    "but we can't use our normal experience with -- and intuition about -- Jupyter to make that case.\n",
    "\n",
    "One other point that is important to note is user interactivity. Usually, when developing a Jupyter notebook inputs (data as well\n",
    "as parameters) are either hardcoded, or factored out into a variable that is changed on top of the notebook (or in some cells\n",
    "further down). And by running or re-running certain cells, those variables are re-set or changed. This works fine for\n",
    "dynamically creating a workflow (although, it's sometimes confusing, and one of the main criticisms against the Jupyter notebook\n",
    "approach). But, in a 'static' workflow, we need to make sure that a user can set or change all those inputs at any time, while\n",
    "making sure that the 'internal' state of our workflow is known to our engine. At a minimum, we need to know that our state\n",
    "is currently inconsistent after a user-input, and have a way to communicating that to the user so they can kick off\n",
    "some re-processing manually, to make it consistent again. Jupyter supports interactivity via widgets, but the 'cell-based'\n",
    "approach in notebooks is not a very good fit for that, because it forces a very simple one-after-the other processing model,\n",
    "that would make it hard to implement the efficient execution of even remotely non-trivial workflows (for example having\n",
    "parallel execution of some cells, or skipping the execution of parts that don't need to be executed currently, etc.)."
   ]
  },
  {
   "cell_type": "markdown",
   "metadata": {
    "pycharm": {
     "name": "#%% md\n"
    },
    "slideshow": {
     "slide_type": "slide"
    }
   },
   "source": [
    "## Prior art\n",
    "\n",
    "- workflow/pipeline modelling and execution is a solved problem in programming:\n",
    "  - [flow-based programming (FBP)](https://en.wikipedia.org/wiki/Flow-based_programming)\n",
    "  - requires well defined, modular entities (with 'ports': input and output values)\n",
    "- lots of (partial) implementations in data engineering:\n",
    "  - [airflow](https://airflow.apache.org/)\n",
    "  - [luigi](https://github.com/spotify/luigi)\n",
    "  - [dagster](https://github.com/dagster-io/dagster)\n",
    "  - [prefect](https://www.prefect.io/)\n",
    "  - many others: Node-RED, Apache NiFi, IFTTT, Zapier, Huginn, ...\n",
    "- one subtle (although important) difference with our project, again: interactivity"
   ]
  },
  {
   "cell_type": "markdown",
   "metadata": {
    "pycharm": {
     "name": "#%% md\n"
    },
    "slideshow": {
     "slide_type": "skip"
    }
   },
   "source": [
    "There is a form of programming that fits our problem space fairly well: [flow-based programming (FBP)](https://en.wikipedia.org/wiki/Flow-based_programming).\n",
    "Like functional programming, it's probably older than all of us, and it is gaining some notable traction again in recent years\n",
    "(although with much less hype around it, and without being explicitly mentioned by name). A lot of the data orchestration\n",
    "tools and frameworks that cropped up in recent years use some form or aspects of FBP, for example:\n",
    "\n",
    "  - [airflow](https://airflow.apache.org/)\n",
    "  - [luigi](https://github.com/spotify/luigi)\n",
    "  - [dagster](https://github.com/dagster-io/dagster)\n",
    "  - [prefect](https://www.prefect.io/)\n",
    "\n",
    "One thing that FBP requires are well defined entities ('modules', 'nodes'), that have 'ports' (meaning: known inputs, and outputs).\n",
    "A Jupyter notebook for example does not typically have that, which makes it hard to 'combine' notebooks in an FBP-like\n",
    "manner. There are attempts to 'formalize' Jupyter notebooks in a way that would make them better fits in such scenarios\n",
    "([papermill](https://papermill.readthedocs.io/en/latest/), [orchest](https://www.orchest.io/)), but in my opinion, although\n",
    " they kind of work, those attempts are a bit clunky, and not very user-friendly (because they try to bend Jupyter into\n",
    " something it was not designed to do). Also, they typically only deal with inputs; outputs are not very well defined at all.\n",
    " Compare that for example with how a 'proper' data-orchestration tool like dagster handles [inputs and outputs](https://docs.dagster.io/tutorial/basics_solids),\n",
    "which should make clear how many more options someone who implements a workflow execution and rendering framework (which\n",
    "is basically what we are building) has when that sort of metadata is available.\n",
    "\n",
    "\n",
    "As was the case in the section above, one difference in our case is interactivity. Most tools in that space assume they'll\n",
    "get the input values for a workflow execution at the start, and then they can proceed to go through the workflow, batch-processing\n",
    "style (meaning, no further user input half-way through). This is different for us, since we want users to be able to\n",
    "interactively explore their data (within the limits of a 'static' workflow). This means we will have to consider how\n",
    "to deal with long-running computations whose results wil be available after minutes, hours weeks. The good thing is though,\n",
    "whatever we come up with, we'll get a 'traditional workflow execution engine' for free, because every workflow that can\n",
    "be executed interactively, will also be able to do 'batch-style'. This will let us re-use and 'move' our workflows to\n",
    "other execution environments (HPC clusters, 'the cloud', ...) and do other interesting things with them if the need arises\n",
    "(monte-carlo style experiments, automated-testing of workflows and modules, ...)."
   ]
  },
  {
   "cell_type": "markdown",
   "metadata": {
    "pycharm": {
     "name": "#%% md\n"
    },
    "slideshow": {
     "slide_type": "slide"
    }
   },
   "source": [
    "## Modelling workflows\n",
    "\n",
    "- research data is more useful when it's structured, so why would workflow definitions be different?\n",
    "- so: can we model a workflow as code, or even better: as data?"
   ]
  },
  {
   "cell_type": "markdown",
   "metadata": {
    "pycharm": {
     "name": "#%% md\n"
    },
    "slideshow": {
     "slide_type": "skip"
    }
   },
   "source": [
    "So, assuming everyone agrees this is a reasonable avenue to explore, we have to think about how we want to model our\n",
    "workflows. We should definitely look at how other, similar frameworks do this, but I think one approach is very tempting:\n",
    "\n",
    "> ***Describe workflows as structured data!***\n",
    "\n",
    "There are several reasons for why I think this would be a good idea:\n",
    "\n",
    "- structured data can be processed by every programming language in existence\n",
    "   - we would have one 'main' library that does the actual workflow execution/data processing (probably in Python)\n",
    "   - we could use other languages to do different other things in our 'ecosystem': e.g. JavaScript for dynamically rendering a frontend\n",
    "- we can (largely) work independent from each other, the only thing to consult about is the schema of the workflow data\n",
    "- such structured data can be displayed as a network graph, which is much easier to grasp than code\n",
    "- automated testing of every workflow and model is easy, can be done in CI/CD\n",
    "- Jupyter notebooks are, as I've explained above, pretty good at creating and manipulating structured data\n",
    "- there are a lot of researchers out there who know how to use Jupyter: those could all be potential \"DHARPA-workflow\" creators\n",
    "- in addition to that, we can decide to create a visual 'workflow editor/creator', that is independent from the 'workflow executor' part, and 100% optional\n"
   ]
  },
  {
   "cell_type": "markdown",
   "metadata": {
    "slideshow": {
     "slide_type": "slide"
    }
   },
   "source": [
    "## Code!\n",
    "\n",
    "The following is using prototype-quality code to illustrate how a 'workflow-as-data' model could look like in practice. Only a few modules are implemented, the goal is to recreate the first part of the 'Topic-modelling' workflow: load some text files, tokenize them, then do some processing (lowercasing, removal of stopwords).\n",
    "\n",
    "### Definitions\n",
    "\n",
    "- ***module***: a module is an atomic entity that contains a fixed set of defined inputs and outputs, as well as a processing unit that converts the set of inputs to outputs, in a predicable way\n",
    "\n",
    "- ***workflow***: a workflow contains a set of modules which are connected in a specific way. A workflow is conceptually also a module, because it also contains a set of inputs/outputs as well as processing unit, and it can be used in other, 'parent' workflows in the same ways a normal module can."
   ]
  },
  {
   "cell_type": "code",
   "execution_count": 2,
   "metadata": {
    "slideshow": {
     "slide_type": "slide"
    }
   },
   "outputs": [
    {
     "data": {
      "text/plain": [
       "['dharpa_workflow',\n",
       " 'file_reader',\n",
       " 'lowercase_corpus',\n",
       " 'remove_stopwords_from_corpus',\n",
       " 'tokenize_corpus']"
      ]
     },
     "execution_count": 2,
     "metadata": {},
     "output_type": "execute_result"
    }
   ],
   "source": [
    "# we can list all available modules (and workflows)\n",
    "list_available_module_names()"
   ]
  },
  {
   "cell_type": "code",
   "execution_count": 3,
   "metadata": {
    "slideshow": {
     "slide_type": "fragment"
    }
   },
   "outputs": [
    {
     "data": {
      "text/html": [
       "<pre style=\"white-space:pre;overflow-x:auto;line-height:normal;font-family:Menlo,'DejaVu Sans Mono',consolas,'Courier New',monospace\"><span style=\"font-weight: bold\">{</span><span style=\"color: #008000\">'tokenize_corpus'</span>: <span style=\"font-weight: bold\">{</span><span style=\"color: #008000\">'inputs'</span>: <span style=\"font-weight: bold\">{</span><span style=\"color: #008000\">'text_map'</span>: <span style=\"color: #008000\">'Dict'</span><span style=\"font-weight: bold\">}</span>, <span style=\"color: #008000\">'outputs'</span>: <span style=\"font-weight: bold\">{</span><span style=\"color: #008000\">'tokenized_text'</span>: <span style=\"color: #008000\">'Dict'</span><span style=\"font-weight: bold\">}}}</span>\n",
       "</pre>\n"
      ],
      "text/plain": [
       "<rich.jupyter.JupyterRenderable at 0x7fae787bce90>"
      ]
     },
     "metadata": {},
     "output_type": "display_data"
    }
   ],
   "source": [
    "# we can investigate each modules inputs and output specs\n",
    "print_module_desc('tokenize_corpus')"
   ]
  },
  {
   "cell_type": "code",
   "execution_count": 4,
   "metadata": {
    "slideshow": {
     "slide_type": "slide"
    }
   },
   "outputs": [
    {
     "data": {
      "text/markdown": [
       "```yaml\n",
       "---\n",
       "modules:\n",
       "\n",
       "- type: tokenize_corpus\n",
       "\n",
       "- type: lowercase_corpus\n",
       "  input_map:\n",
       "    tokenized_text: tokenize_corpus.tokenized_text\n",
       "\n",
       "- type: remove_stopwords_from_corpus\n",
       "  input_map:\n",
       "    tokenized_text: lowercase_corpus.tokenized_text\n",
       "  workflow_outputs:\n",
       "    tokenized_text: processed_text_corpus\n",
       "```"
      ],
      "text/plain": [
       "<IPython.core.display.Markdown object>"
      ]
     },
     "metadata": {},
     "output_type": "display_data"
    }
   ],
   "source": [
    "# a workflow configuration is basically just a list of modules, incl. their input/output connections\n",
    "workflow_config = f'{base_path}/workflows/corpus_processing_simple.yaml'\n",
    "print_file_content(workflow_config)"
   ]
  },
  {
   "cell_type": "code",
   "execution_count": 5,
   "metadata": {
    "slideshow": {
     "slide_type": "fragment"
    }
   },
   "outputs": [
    {
     "data": {
      "text/html": [
       "<pre style=\"white-space:pre;overflow-x:auto;line-height:normal;font-family:Menlo,'DejaVu Sans Mono',consolas,'Courier New',monospace\"><span style=\"font-weight: bold\">[</span>\n",
       "    <span style=\"color: #008000\">'lowercase_corpus__enabled'</span>,\n",
       "    <span style=\"color: #008000\">'remove_stopwords_from_corpus__enabled'</span>,\n",
       "    <span style=\"color: #008000\">'remove_stopwords_from_corpus__stopwords_list'</span>,\n",
       "    <span style=\"color: #008000\">'tokenize_corpus__text_map'</span>\n",
       "<span style=\"font-weight: bold\">]</span>\n",
       "</pre>\n"
      ],
      "text/plain": [
       "<rich.jupyter.JupyterRenderable at 0x7fae16ce8d10>"
      ]
     },
     "metadata": {},
     "output_type": "display_data"
    }
   ],
   "source": [
    "# we create a 'workflow' object using the configuration data\n",
    "workflow: DharpaWorkflow = DharpaWorkflow.from_file(workflow_config)\n",
    "# we can investigate each workflows available input and output names\n",
    "print(workflow.input_names)"
   ]
  },
  {
   "cell_type": "code",
   "execution_count": 6,
   "metadata": {
    "slideshow": {
     "slide_type": "fragment"
    }
   },
   "outputs": [
    {
     "data": {
      "text/html": [
       "<pre style=\"white-space:pre;overflow-x:auto;line-height:normal;font-family:Menlo,'DejaVu Sans Mono',consolas,'Courier New',monospace\"><span style=\"font-weight: bold\">[</span><span style=\"color: #008000\">'processed_text_corpus'</span><span style=\"font-weight: bold\">]</span>\n",
       "</pre>\n"
      ],
      "text/plain": [
       "<rich.jupyter.JupyterRenderable at 0x7fae16e557d0>"
      ]
     },
     "metadata": {},
     "output_type": "display_data"
    }
   ],
   "source": [
    "print(workflow.output_names)"
   ]
  },
  {
   "cell_type": "code",
   "execution_count": 7,
   "metadata": {
    "slideshow": {
     "slide_type": "slide"
    }
   },
   "outputs": [
    {
     "data": {
      "image/png": "[encoded data removed]",
      "text/plain": [
       "<IPython.core.display.Image object>"
      ]
     },
     "execution_count": 7,
     "metadata": {},
     "output_type": "execute_result"
    }
   ],
   "source": [
    "# we can display the execution and data-flow structures of a workflow graphically\n",
    "graph_to_image(workflow.execution_graph)\n",
    "# graph_to_image(workflow.data_flow_graph)"
   ]
  },
  {
   "cell_type": "code",
   "execution_count": 8,
   "metadata": {
    "slideshow": {
     "slide_type": "slide"
    }
   },
   "outputs": [
    {
     "data": {
      "text/html": [
       "<pre style=\"white-space:pre;overflow-x:auto;line-height:normal;font-family:Menlo,'DejaVu Sans Mono',consolas,'Courier New',monospace\"><span style=\"font-weight: bold\">{</span>\n",
       "    <span style=\"color: #008000\">'dharpa_workflow'</span>: <span style=\"font-weight: bold\">{</span>\n",
       "        <span style=\"color: #008000\">'inputs'</span>: <span style=\"font-weight: bold\">{</span>\n",
       "            <span style=\"color: #008000\">'lowercase_corpus__enabled'</span>: <span style=\"color: #008000\">'Bool'</span>,\n",
       "            <span style=\"color: #008000\">'remove_stopwords_from_corpus__enabled'</span>: <span style=\"color: #008000\">'Bool'</span>,\n",
       "            <span style=\"color: #008000\">'remove_stopwords_from_corpus__stopwords_list'</span>: <span style=\"color: #008000\">'List'</span>,\n",
       "            <span style=\"color: #008000\">'tokenize_corpus__text_map'</span>: <span style=\"color: #008000\">'Dict'</span>\n",
       "        <span style=\"font-weight: bold\">}</span>,\n",
       "        <span style=\"color: #008000\">'outputs'</span>: <span style=\"font-weight: bold\">{</span><span style=\"color: #008000\">'processed_text_corpus'</span>: <span style=\"color: #008000\">'Dict'</span><span style=\"font-weight: bold\">}</span>\n",
       "    <span style=\"font-weight: bold\">}</span>\n",
       "<span style=\"font-weight: bold\">}</span>\n",
       "</pre>\n"
      ],
      "text/plain": [
       "<rich.jupyter.JupyterRenderable at 0x7fae16e55d10>"
      ]
     },
     "metadata": {},
     "output_type": "display_data"
    }
   ],
   "source": [
    "# print the workflow input/output spec\n",
    "print_module_desc(workflow)"
   ]
  },
  {
   "cell_type": "code",
   "execution_count": 9,
   "metadata": {
    "slideshow": {
     "slide_type": "fragment"
    }
   },
   "outputs": [
    {
     "data": {
      "text/html": [
       "<pre style=\"white-space:pre;overflow-x:auto;line-height:normal;font-family:Menlo,'DejaVu Sans Mono',consolas,'Courier New',monospace\"><span style=\"font-weight: bold\">{</span><span style=\"color: #008000\">'1'</span>: <span style=\"font-weight: bold\">[</span><span style=\"color: #008000\">'world'</span><span style=\"font-weight: bold\">]</span>, <span style=\"color: #008000\">'2'</span>: <span style=\"font-weight: bold\">[</span><span style=\"color: #008000\">'dharpa'</span><span style=\"font-weight: bold\">]}</span>\n",
       "</pre>\n"
      ],
      "text/plain": [
       "<rich.jupyter.JupyterRenderable at 0x7fae16c5ba10>"
      ]
     },
     "metadata": {},
     "output_type": "display_data"
    }
   ],
   "source": [
    "# using the spec, we can set a workflows inputs and outputs manually\n",
    "text_map = {\n",
    "    \"1\": \"Hello World!\",\n",
    "    \"2\": \"Hello DHARPA!\"\n",
    "}\n",
    "stopwords = [\n",
    "    \"hello\",\n",
    "    \"!\"\n",
    "]\n",
    "workflow.set_input(\"tokenize_corpus__text_map\", text_map)\n",
    "workflow.set_input(\"lowercase_corpus__enabled\", True)\n",
    "workflow.set_input(\"remove_stopwords_from_corpus__enabled\", True)\n",
    "workflow.set_input(\"remove_stopwords_from_corpus__stopwords_list\", stopwords)\n",
    "\n",
    "# the workflow state is processed automatically, so we can always query the current output\n",
    "output1 = workflow.get_output(\"processed_text_corpus\")\n",
    "print(output1)"
   ]
  },
  {
   "cell_type": "code",
   "execution_count": 10,
   "metadata": {
    "slideshow": {
     "slide_type": "slide"
    }
   },
   "outputs": [
    {
     "data": {
      "text/html": [
       "<pre style=\"white-space:pre;overflow-x:auto;line-height:normal;font-family:Menlo,'DejaVu Sans Mono',consolas,'Courier New',monospace\"><span style=\"font-weight: bold\">[</span>\n",
       "    <span style=\"color: #008000\">'corpus_processing'</span>,\n",
       "    <span style=\"color: #008000\">'corpus_processing_simple'</span>,\n",
       "    <span style=\"color: #008000\">'dharpa_workflow'</span>,\n",
       "    <span style=\"color: #008000\">'file_reader'</span>,\n",
       "    <span style=\"color: #008000\">'input_files_processing'</span>,\n",
       "    <span style=\"color: #008000\">'lowercase_corpus'</span>,\n",
       "    <span style=\"color: #008000\">'remove_stopwords_from_corpus'</span>,\n",
       "    <span style=\"color: #008000\">'tokenize_corpus'</span>\n",
       "<span style=\"font-weight: bold\">]</span>\n",
       "</pre>\n"
      ],
      "text/plain": [
       "<rich.jupyter.JupyterRenderable at 0x7fae16c5ba50>"
      ]
     },
     "metadata": {},
     "output_type": "display_data"
    }
   ],
   "source": [
    "# we can load workflows from json/yaml files on the file-system, and convert them to Python classes\n",
    "load_workflows(f\"{base_path}/workflows\")\n",
    "print(list_available_module_names())"
   ]
  },
  {
   "cell_type": "code",
   "execution_count": 11,
   "metadata": {
    "slideshow": {
     "slide_type": "fragment"
    }
   },
   "outputs": [
    {
     "data": {
      "text/html": [
       "<pre style=\"white-space:pre;overflow-x:auto;line-height:normal;font-family:Menlo,'DejaVu Sans Mono',consolas,'Courier New',monospace\"><span style=\"font-weight: bold\">{</span>\n",
       "    <span style=\"color: #008000\">'input_files_processing'</span>: <span style=\"font-weight: bold\">{</span>\n",
       "        <span style=\"color: #008000\">'inputs'</span>: <span style=\"font-weight: bold\">{</span>\n",
       "            <span style=\"color: #008000\">'files'</span>: <span style=\"color: #008000\">'Any'</span>,\n",
       "            <span style=\"color: #008000\">'make_lowercase'</span>: <span style=\"color: #008000\">'Bool'</span>,\n",
       "            <span style=\"color: #008000\">'remove_stopwords'</span>: <span style=\"color: #008000\">'Bool'</span>,\n",
       "            <span style=\"color: #008000\">'stopwords'</span>: <span style=\"color: #008000\">'List'</span>\n",
       "        <span style=\"font-weight: bold\">}</span>,\n",
       "        <span style=\"color: #008000\">'outputs'</span>: <span style=\"font-weight: bold\">{</span><span style=\"color: #008000\">'processed_text_corpus'</span>: <span style=\"color: #008000\">'Dict'</span><span style=\"font-weight: bold\">}</span>\n",
       "    <span style=\"font-weight: bold\">}</span>\n",
       "<span style=\"font-weight: bold\">}</span>\n",
       "</pre>\n"
      ],
      "text/plain": [
       "<rich.jupyter.JupyterRenderable at 0x7fae7b8275d0>"
      ]
     },
     "metadata": {},
     "output_type": "display_data"
    }
   ],
   "source": [
    "# display the module spec for the 'input_files_processing' workflow\n",
    "print_module_desc(\"input_files_processing\")"
   ]
  },
  {
   "cell_type": "code",
   "execution_count": 12,
   "metadata": {
    "slideshow": {
     "slide_type": "slide"
    }
   },
   "outputs": [
    {
     "data": {
      "text/html": [
       "<pre style=\"white-space:pre;overflow-x:auto;line-height:normal;font-family:Menlo,'DejaVu Sans Mono',consolas,'Courier New',monospace\"><span style=\"font-weight: bold\">{</span>\n",
       "    <span style=\"color: #008000\">'modules'</span>: <span style=\"font-weight: bold\">[</span>\n",
       "        <span style=\"font-weight: bold\">{</span>\n",
       "            <span style=\"color: #008000\">'type'</span>: <span style=\"color: #008000\">'file_reader'</span>,\n",
       "            <span style=\"color: #008000\">'input_map'</span>: <span style=\"font-weight: bold\">{</span><span style=\"color: #008000\">'files'</span>: <span style=\"color: #008000\">'__workflow_input__.files'</span><span style=\"font-weight: bold\">}</span>,\n",
       "            <span style=\"color: #008000\">'id'</span>: <span style=\"color: #008000\">'file_reader'</span>\n",
       "        <span style=\"font-weight: bold\">}</span>,\n",
       "        <span style=\"font-weight: bold\">{</span>\n",
       "            <span style=\"color: #008000\">'type'</span>: <span style=\"color: #008000\">'corpus_processing'</span>,\n",
       "            <span style=\"color: #008000\">'input_map'</span>: <span style=\"font-weight: bold\">{</span>\n",
       "                <span style=\"color: #008000\">'text_map'</span>: <span style=\"color: #008000\">'file_reader.content_map'</span>,\n",
       "                <span style=\"color: #008000\">'make_lowercase'</span>: <span style=\"color: #008000\">'__workflow_input__.make_lowercase'</span>,\n",
       "                <span style=\"color: #008000\">'remove_stopwords'</span>: <span style=\"color: #008000\">'__workflow_input__.remove_stopwords'</span>,\n",
       "                <span style=\"color: #008000\">'stopwords'</span>: <span style=\"color: #008000\">'__workflow_input__.stopwords'</span>\n",
       "            <span style=\"font-weight: bold\">}</span>,\n",
       "            <span style=\"color: #008000\">'workflow_outputs'</span>: <span style=\"font-weight: bold\">{</span><span style=\"color: #008000\">'processed_text_corpus'</span>: <span style=\"color: #008000\">'processed_text_corpus'</span><span style=\"font-weight: bold\">}</span>,\n",
       "            <span style=\"color: #008000\">'id'</span>: <span style=\"color: #008000\">'corpus_processing'</span>\n",
       "        <span style=\"font-weight: bold\">}</span>\n",
       "    <span style=\"font-weight: bold\">]</span>\n",
       "<span style=\"font-weight: bold\">}</span>\n",
       "</pre>\n"
      ],
      "text/plain": [
       "<rich.jupyter.JupyterRenderable at 0x7fae16c62590>"
      ]
     },
     "metadata": {},
     "output_type": "display_data"
    }
   ],
   "source": [
    "# create the workflow object\n",
    "ifp_workflow = create_module('input_files_processing')\n",
    "# display the internal structure of the workflow\n",
    "print(ifp_workflow._workflow_config)"
   ]
  },
  {
   "cell_type": "code",
   "execution_count": 13,
   "metadata": {
    "slideshow": {
     "slide_type": "slide"
    }
   },
   "outputs": [
    {
     "data": {
      "image/png": "[encoded data removed]",
      "text/plain": [
       "<IPython.core.display.Image object>"
      ]
     },
     "execution_count": 13,
     "metadata": {},
     "output_type": "execute_result"
    }
   ],
   "source": [
    "# display the execution graph for the workflow\n",
    "graph_to_image(ifp_workflow.execution_graph)\n",
    "# graph_to_image(ifp_workflow.data_flow_graph)"
   ]
  },
  {
   "cell_type": "code",
   "execution_count": 14,
   "metadata": {
    "slideshow": {
     "slide_type": "slide"
    }
   },
   "outputs": [
    {
     "data": {
      "application/vnd.jupyter.widget-view+json": {
       "model_id": "3aadb1e7887845b1b37879f150561540",
       "version_major": 2,
       "version_minor": 0
      },
      "text/plain": [
       "GridspecLayout(children=(Label(value='files', layout=Layout(grid_area='widget001')), FileUpload(value={}, desc…"
      ]
     },
     "metadata": {},
     "output_type": "display_data"
    },
    {
     "data": {
      "application/vnd.jupyter.widget-view+json": {
       "model_id": "dfb9062a7da3486fb1d2c6bbe7b78b92",
       "version_major": 2,
       "version_minor": 0
      },
      "text/plain": [
       "Output()"
      ]
     },
     "metadata": {},
     "output_type": "display_data"
    }
   ],
   "source": [
    "# auto-render input and output-widgets for the workflow (only works when executed in Jupyter)\n",
    "renderer = PlainJupyterWorkflowRenderer(workflow=ifp_workflow)\n",
    "renderer.render()"
   ]
  },
  {
   "cell_type": "markdown",
   "metadata": {},
   "source": [
    "### Advantages\n",
    "\n",
    "- each interactive workflow is automatically a 'batch-style' one\n",
    "- ability to work on different parts of the application almost 100% independently (workflow engine, workflow renderers (UIs), plugins (submitting long running jobs to a cluster, metadata augmentation/data lineage, metric gathering, ...)\n",
    "- comparatively little dependencies for the base system / lightweight, but very extensible\n",
    "- no dependency on any one UI/frontend technology (can use Jupyter/React/QT/...), can run without any UI at all\n",
    "- complex workflow can be broken up into separate pieces, and developed and tested individually\n",
    "- fairly high re-usablity\n",
    "- easy to use in an agile, iterative development process\n",
    "\n",
    "\n",
    "### Disadvantages\n",
    "\n",
    "- potentially lower performance due to having to create copies of inputs/outputs to make sure they (or items contained within them) are not changed by subsequent steps\n",
    "- harder to create very customized UIs\n",
    "- there's a limit to the complexity of workflows that can be supported realistically (e.g. hard to implement control structures like if-then-else or loops on a workflow level/outside of modules -- but in a lot of cases that is probably not necessary)"
   ]
  }
 ],
 "metadata": {
  "celltoolbar": "Slideshow",
  "kernelspec": {
   "display_name": "Python 3",
   "language": "python",
   "name": "python3"
  },
  "language_info": {
   "codemirror_mode": {
    "name": "ipython",
    "version": 3
   },
   "file_extension": ".py",
   "mimetype": "text/x-python",
   "name": "python",
   "nbconvert_exporter": "python",
   "pygments_lexer": "ipython3",
   "version": "3.7.9"
  },
  "rise": {}
 },
 "nbformat": 4,
 "nbformat_minor": 1
}
