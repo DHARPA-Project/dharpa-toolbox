{
 "cells": [
  {
   "cell_type": "code",
   "execution_count": 1,
   "metadata": {
    "pycharm": {
     "name": "#%%\n"
    }
   },
   "outputs": [],
   "source": [
    "from pathlib import Path\n",
    "from dharpa_toolbox.modules.utils import load_workflows, create_module\n",
    "from dharpa_toolbox.rendering.jupyter.renderer import PlainJupyterWorkflowRenderer, ModuleJupyterWorkflowRenderer\n"
   ]
  },
  {
   "cell_type": "code",
   "execution_count": 2,
   "metadata": {
    "pycharm": {
     "name": "#%%\n"
    }
   },
   "outputs": [
    {
     "data": {
      "application/vnd.jupyter.widget-view+json": {
       "model_id": "bafc7a2c9cff4b7da643b794baa440f5",
       "version_major": 2,
       "version_minor": 0
      },
      "text/plain": [
       "GridspecLayout(children=(Label(value='text_map', layout=Layout(grid_area='widget001')), Textarea(value='', lay…"
      ]
     },
     "metadata": {},
     "output_type": "display_data"
    },
    {
     "data": {
      "application/vnd.jupyter.widget-view+json": {
       "model_id": "f43abce88b4a44f6bcc9fb67eb27680d",
       "version_major": 2,
       "version_minor": 0
      },
      "text/plain": [
       "Output()"
      ]
     },
     "metadata": {},
     "output_type": "display_data"
    }
   ],
   "source": [
    "\n",
    "base_path = Path(\"/home/markus/projects/dharpa/dharpa-toolbox/dev\")\n",
    "config_path = base_path / \"corpus_processing.yaml\"\n",
    "\n",
    "workflow_descriptions_folder = (\n",
    "    \"/home/markus/projects/dharpa/dharpa-toolbox/dev/workflows\"\n",
    ")\n",
    "load_workflows(workflow_descriptions_folder)\n",
    "\n",
    "workflow = create_module(\"corpus_processing\")\n",
    "\n",
    "renderer = PlainJupyterWorkflowRenderer(workflow=workflow)\n",
    "renderer.render()\n",
    "\n",
    "# renderer = ModuleJupyterWorkflowRenderer(workflow)\n",
    "# renderer.render()\n"
   ]
  }
 ],
 "metadata": {
  "kernelspec": {
   "display_name": "Python 3",
   "language": "python",
   "name": "python3"
  },
  "language_info": {
   "codemirror_mode": {
    "name": "ipython",
    "version": 3
   },
   "file_extension": ".py",
   "mimetype": "text/x-python",
   "name": "python",
   "nbconvert_exporter": "python",
   "pygments_lexer": "ipython3",
   "version": "3.7.9"
  }
 },
 "nbformat": 4,
 "nbformat_minor": 1
}
